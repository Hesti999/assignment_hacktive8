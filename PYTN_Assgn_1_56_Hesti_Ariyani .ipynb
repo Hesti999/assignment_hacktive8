{
  "nbformat": 4,
  "nbformat_minor": 0,
  "metadata": {
    "colab": {
      "name": "PYTN_Assgn_1_56_Hesti_Ariyani.ipynb",
      "provenance": [],
      "collapsed_sections": [],
      "toc_visible": true
    },
    "kernelspec": {
      "name": "python3",
      "display_name": "Python 3"
    },
    "language_info": {
      "name": "python"
    }
  },
  "cells": [
    {
      "cell_type": "markdown",
      "metadata": {
        "id": "Z5ri5T2laNC8"
      },
      "source": [
        "# Preprocesing"
      ]
    },
    {
      "cell_type": "code",
      "metadata": {
        "colab": {
          "base_uri": "https://localhost:8080/"
        },
        "id": "JWE1IYPNT_qU",
        "outputId": "59198432-cdba-4e3f-f448-bb7e773194d7"
      },
      "source": [
        "import pandas as pd\n",
        "import matplotlib.pyplot as plt\n",
        "import numpy as np\n",
        "\n",
        "from google.colab import drive\n",
        "drive.mount('/content/drive')"
      ],
      "execution_count": 25,
      "outputs": [
        {
          "output_type": "stream",
          "text": [
            "Drive already mounted at /content/drive; to attempt to forcibly remount, call drive.mount(\"/content/drive\", force_remount=True).\n"
          ],
          "name": "stdout"
        }
      ]
    },
    {
      "cell_type": "code",
      "metadata": {
        "id": "fQwWRhXmU3mR"
      },
      "source": [
        "df_cr = pd.read_csv('/content/drive/MyDrive/Colab Data/crime.csv')"
      ],
      "execution_count": 26,
      "outputs": []
    },
    {
      "cell_type": "code",
      "metadata": {
        "colab": {
          "base_uri": "https://localhost:8080/",
          "height": 203
        },
        "id": "A6myxsc1Vj1u",
        "outputId": "8ca1d1b2-9bc2-42b7-a524-ee057dff25c5"
      },
      "source": [
        "df_cr.head()"
      ],
      "execution_count": 27,
      "outputs": [
        {
          "output_type": "execute_result",
          "data": {
            "text/html": [
              "<div>\n",
              "<style scoped>\n",
              "    .dataframe tbody tr th:only-of-type {\n",
              "        vertical-align: middle;\n",
              "    }\n",
              "\n",
              "    .dataframe tbody tr th {\n",
              "        vertical-align: top;\n",
              "    }\n",
              "\n",
              "    .dataframe thead th {\n",
              "        text-align: right;\n",
              "    }\n",
              "</style>\n",
              "<table border=\"1\" class=\"dataframe\">\n",
              "  <thead>\n",
              "    <tr style=\"text-align: right;\">\n",
              "      <th></th>\n",
              "      <th>lsoa_code</th>\n",
              "      <th>borough</th>\n",
              "      <th>major_category</th>\n",
              "      <th>minor_category</th>\n",
              "      <th>value</th>\n",
              "      <th>year</th>\n",
              "      <th>month</th>\n",
              "    </tr>\n",
              "  </thead>\n",
              "  <tbody>\n",
              "    <tr>\n",
              "      <th>0</th>\n",
              "      <td>E01001116</td>\n",
              "      <td>Croydon</td>\n",
              "      <td>Burglary</td>\n",
              "      <td>Burglary in Other Buildings</td>\n",
              "      <td>0</td>\n",
              "      <td>2016</td>\n",
              "      <td>11</td>\n",
              "    </tr>\n",
              "    <tr>\n",
              "      <th>1</th>\n",
              "      <td>E01001646</td>\n",
              "      <td>Greenwich</td>\n",
              "      <td>Violence Against the Person</td>\n",
              "      <td>Other violence</td>\n",
              "      <td>0</td>\n",
              "      <td>2016</td>\n",
              "      <td>11</td>\n",
              "    </tr>\n",
              "    <tr>\n",
              "      <th>2</th>\n",
              "      <td>E01000677</td>\n",
              "      <td>Bromley</td>\n",
              "      <td>Violence Against the Person</td>\n",
              "      <td>Other violence</td>\n",
              "      <td>0</td>\n",
              "      <td>2015</td>\n",
              "      <td>5</td>\n",
              "    </tr>\n",
              "    <tr>\n",
              "      <th>3</th>\n",
              "      <td>E01003774</td>\n",
              "      <td>Redbridge</td>\n",
              "      <td>Burglary</td>\n",
              "      <td>Burglary in Other Buildings</td>\n",
              "      <td>0</td>\n",
              "      <td>2016</td>\n",
              "      <td>3</td>\n",
              "    </tr>\n",
              "    <tr>\n",
              "      <th>4</th>\n",
              "      <td>E01004563</td>\n",
              "      <td>Wandsworth</td>\n",
              "      <td>Robbery</td>\n",
              "      <td>Personal Property</td>\n",
              "      <td>0</td>\n",
              "      <td>2008</td>\n",
              "      <td>6</td>\n",
              "    </tr>\n",
              "  </tbody>\n",
              "</table>\n",
              "</div>"
            ],
            "text/plain": [
              "   lsoa_code     borough               major_category  ... value  year  month\n",
              "0  E01001116     Croydon                     Burglary  ...     0  2016     11\n",
              "1  E01001646   Greenwich  Violence Against the Person  ...     0  2016     11\n",
              "2  E01000677     Bromley  Violence Against the Person  ...     0  2015      5\n",
              "3  E01003774   Redbridge                     Burglary  ...     0  2016      3\n",
              "4  E01004563  Wandsworth                      Robbery  ...     0  2008      6\n",
              "\n",
              "[5 rows x 7 columns]"
            ]
          },
          "metadata": {
            "tags": []
          },
          "execution_count": 27
        }
      ]
    },
    {
      "cell_type": "code",
      "metadata": {
        "id": "CLpdGfheUCA-",
        "colab": {
          "base_uri": "https://localhost:8080/"
        },
        "outputId": "2c94ed72-5241-47e3-c295-38bae8d0c794"
      },
      "source": [
        "df_cr.info()"
      ],
      "execution_count": 28,
      "outputs": [
        {
          "output_type": "stream",
          "text": [
            "<class 'pandas.core.frame.DataFrame'>\n",
            "RangeIndex: 13490604 entries, 0 to 13490603\n",
            "Data columns (total 7 columns):\n",
            " #   Column          Dtype \n",
            "---  ------          ----- \n",
            " 0   lsoa_code       object\n",
            " 1   borough         object\n",
            " 2   major_category  object\n",
            " 3   minor_category  object\n",
            " 4   value           int64 \n",
            " 5   year            int64 \n",
            " 6   month           int64 \n",
            "dtypes: int64(3), object(4)\n",
            "memory usage: 720.5+ MB\n"
          ],
          "name": "stdout"
        }
      ]
    },
    {
      "cell_type": "code",
      "metadata": {
        "colab": {
          "base_uri": "https://localhost:8080/"
        },
        "id": "NLZonBiT8fRn",
        "outputId": "491f8c32-6172-4e0c-f788-fe99a1e84a6d"
      },
      "source": [
        "df_cr.shape"
      ],
      "execution_count": 29,
      "outputs": [
        {
          "output_type": "execute_result",
          "data": {
            "text/plain": [
              "(13490604, 7)"
            ]
          },
          "metadata": {
            "tags": []
          },
          "execution_count": 29
        }
      ]
    },
    {
      "cell_type": "code",
      "metadata": {
        "colab": {
          "base_uri": "https://localhost:8080/"
        },
        "id": "CRcC54BvCwXx",
        "outputId": "e8652669-0179-45bd-d342-dc053945fc1b"
      },
      "source": [
        "df_cr.isnull().sum()"
      ],
      "execution_count": 30,
      "outputs": [
        {
          "output_type": "execute_result",
          "data": {
            "text/plain": [
              "lsoa_code         0\n",
              "borough           0\n",
              "major_category    0\n",
              "minor_category    0\n",
              "value             0\n",
              "year              0\n",
              "month             0\n",
              "dtype: int64"
            ]
          },
          "metadata": {
            "tags": []
          },
          "execution_count": 30
        }
      ]
    },
    {
      "cell_type": "code",
      "metadata": {
        "id": "_dWYG5RnDq0I"
      },
      "source": [
        "drop_val = ['lsoa_code', 'minor_category']"
      ],
      "execution_count": 31,
      "outputs": []
    },
    {
      "cell_type": "code",
      "metadata": {
        "id": "VM-hrzT6DP64"
      },
      "source": [
        "df_cr.drop(drop_val, axis=1, inplace=True)"
      ],
      "execution_count": 32,
      "outputs": []
    },
    {
      "cell_type": "code",
      "metadata": {
        "id": "Y_gTVk3cEGcd"
      },
      "source": [
        "df_cr.set_index('borough', inplace=True)"
      ],
      "execution_count": 33,
      "outputs": []
    },
    {
      "cell_type": "code",
      "metadata": {
        "id": "cFMdm2c0LiT8"
      },
      "source": [
        "df_cr.rename(columns={'major_category':'crime'}, inplace=True)"
      ],
      "execution_count": 34,
      "outputs": []
    },
    {
      "cell_type": "code",
      "metadata": {
        "colab": {
          "base_uri": "https://localhost:8080/"
        },
        "id": "XV9iCHy6EHIE",
        "outputId": "bf205b78-d622-40f1-88ac-0c38446a733d"
      },
      "source": [
        "df_cr['year'].value_counts()"
      ],
      "execution_count": 35,
      "outputs": [
        {
          "output_type": "execute_result",
          "data": {
            "text/plain": [
              "2016    1498956\n",
              "2015    1498956\n",
              "2014    1498956\n",
              "2013    1498956\n",
              "2012    1498956\n",
              "2011    1498956\n",
              "2010    1498956\n",
              "2009    1498956\n",
              "2008    1498956\n",
              "Name: year, dtype: int64"
            ]
          },
          "metadata": {
            "tags": []
          },
          "execution_count": 35
        }
      ]
    },
    {
      "cell_type": "markdown",
      "metadata": {
        "id": "6MWLilweRHbY"
      },
      "source": [
        "# The Number of Crime Incidents from 2008 to 2016"
      ]
    },
    {
      "cell_type": "markdown",
      "metadata": {
        "id": "kWumRDH3Z9S4"
      },
      "source": [
        "The graph bellow shown the changes number of crime incident from 2008-2016"
      ]
    },
    {
      "cell_type": "code",
      "metadata": {
        "id": "T8IevWllDPIe"
      },
      "source": [
        "df_sorted_year = df_cr.groupby('year').sum()"
      ],
      "execution_count": 36,
      "outputs": []
    },
    {
      "cell_type": "code",
      "metadata": {
        "colab": {
          "base_uri": "https://localhost:8080/",
          "height": 662
        },
        "id": "lq9Bpy0HGghl",
        "outputId": "8c735274-8b62-4a2d-ac9c-cc30e728a786"
      },
      "source": [
        "df_2008_2016 = df_sorted_year['value']\n",
        "df_2008_2016.plot(kind='line', figsize=(15,10), color='Red', marker='o')\n",
        "\n",
        "plt.xticks(fontsize=15, color='darkred')\n",
        "plt.yticks(fontsize=15, color='darkred')\n",
        "plt.xlabel('Years', fontsize=20, color='darkred')\n",
        "plt.ylabel('Number of Crimes', fontsize=20, color='darkred')\n",
        "plt.title('The Number of Crime Incidents from 2008 to 2016', fontsize=25, color='red')"
      ],
      "execution_count": 37,
      "outputs": [
        {
          "output_type": "execute_result",
          "data": {
            "text/plain": [
              "Text(0.5, 1.0, 'The Number of Crime Incidents from 2008 to 2016')"
            ]
          },
          "metadata": {
            "tags": []
          },
          "execution_count": 37
        },
        {
          "output_type": "display_data",
          "data": {
            "image/png": "[encoded data removed]",
            "text/plain": [
              "<Figure size 1080x720 with 1 Axes>"
            ]
          },
          "metadata": {
            "tags": [],
            "needs_background": "light"
          }
        }
      ]
    },
    {
      "cell_type": "markdown",
      "metadata": {
        "id": "oZIBtyusneJp"
      },
      "source": [
        "#Top 5 Area of Crimes in 2008"
      ]
    },
    {
      "cell_type": "code",
      "metadata": {
        "id": "SHNb78j8ZQVB"
      },
      "source": [
        "The graph bellow shown the top 5 dangerous area that happen in most high count of crime's year."
      ],
      "execution_count": null,
      "outputs": []
    },
    {
      "cell_type": "code",
      "metadata": {
        "id": "jPa29OX_n2av"
      },
      "source": [
        "df_sorted_year_2008 = df_cr[df_cr[\"year\"]==2008]\n",
        "df_2008_area = df_sorted_year_2008.groupby('borough').sum()"
      ],
      "execution_count": 38,
      "outputs": []
    },
    {
      "cell_type": "code",
      "metadata": {
        "id": "dq4jpmB0pTu5"
      },
      "source": [
        "df_top5_area_2008 = df_2008_area['value']\n",
        "df_top5_area_2008 = df_top5_area_2008.sort_values(ascending=False)"
      ],
      "execution_count": 39,
      "outputs": []
    },
    {
      "cell_type": "code",
      "metadata": {
        "colab": {
          "base_uri": "https://localhost:8080/",
          "height": 646
        },
        "id": "EBOkhWdRDbFd",
        "outputId": "1b36dd8d-556e-428a-b0b1-25bdbc8a63d3"
      },
      "source": [
        "df_top5_area_2008 = df_top5_area_2008.head()\n",
        "df_top5_area_2008.plot(kind=\"barh\", figsize=(15,10), color='red', fontsize=15)\n",
        "\n",
        "plt.title(\"Top 5 Area of Crimes in 2008\", fontsize=25)\n",
        "plt.xlabel(\"Number of Crimes\", fontsize=21, color='darkred')\n",
        "plt.ylabel(\"Areas\", fontsize=21, color='darkred')\n",
        "plt.show()"
      ],
      "execution_count": 40,
      "outputs": [
        {
          "output_type": "display_data",
          "data": {
            "image/png": "[encoded data removed]",
            "text/plain": [
              "<Figure size 1080x720 with 1 Axes>"
            ]
          },
          "metadata": {
            "tags": [],
            "needs_background": "light"
          }
        }
      ]
    },
    {
      "cell_type": "markdown",
      "metadata": {
        "id": "y9Pe-E4xIlzt"
      },
      "source": [
        "# Crime Rates in Westminster on 2008"
      ]
    },
    {
      "cell_type": "markdown",
      "metadata": {
        "id": "QvAwvGxPYvy7"
      },
      "source": [
        "the graph bellow shown kind of crimes that happen in most dangerous area in the highest year of crime from 2008-2016"
      ]
    },
    {
      "cell_type": "code",
      "metadata": {
        "id": "F3FQq_D9JICR"
      },
      "source": [
        "df_crime_westminster=df_2008_cr.groupby(by='crime', axis=0).sum()"
      ],
      "execution_count": 52,
      "outputs": []
    },
    {
      "cell_type": "code",
      "metadata": {
        "id": "BnvR7FuVM1rV"
      },
      "source": [
        "df_cri=df_cr.sort_values(by='value', ascending=False)"
      ],
      "execution_count": 43,
      "outputs": []
    },
    {
      "cell_type": "code",
      "metadata": {
        "id": "OcznysSZNoy-"
      },
      "source": [
        "df_2008_cr = df_cri[df_cri['year']==2008]"
      ],
      "execution_count": 44,
      "outputs": []
    },
    {
      "cell_type": "code",
      "metadata": {
        "colab": {
          "base_uri": "https://localhost:8080/",
          "height": 357
        },
        "id": "e0GvLHqvQ6rQ",
        "outputId": "662b56a5-394e-4844-b73f-62a0202a33f7"
      },
      "source": [
        "df_crime_westminster.drop(['month', 'year'], axis=1)"
      ],
      "execution_count": 58,
      "outputs": [
        {
          "output_type": "execute_result",
          "data": {
            "text/html": [
              "<div>\n",
              "<style scoped>\n",
              "    .dataframe tbody tr th:only-of-type {\n",
              "        vertical-align: middle;\n",
              "    }\n",
              "\n",
              "    .dataframe tbody tr th {\n",
              "        vertical-align: top;\n",
              "    }\n",
              "\n",
              "    .dataframe thead th {\n",
              "        text-align: right;\n",
              "    }\n",
              "</style>\n",
              "<table border=\"1\" class=\"dataframe\">\n",
              "  <thead>\n",
              "    <tr style=\"text-align: right;\">\n",
              "      <th></th>\n",
              "      <th>value</th>\n",
              "    </tr>\n",
              "    <tr>\n",
              "      <th>crime</th>\n",
              "      <th></th>\n",
              "    </tr>\n",
              "  </thead>\n",
              "  <tbody>\n",
              "    <tr>\n",
              "      <th>Burglary</th>\n",
              "      <td>88092</td>\n",
              "    </tr>\n",
              "    <tr>\n",
              "      <th>Criminal Damage</th>\n",
              "      <td>91872</td>\n",
              "    </tr>\n",
              "    <tr>\n",
              "      <th>Drugs</th>\n",
              "      <td>68804</td>\n",
              "    </tr>\n",
              "    <tr>\n",
              "      <th>Fraud or Forgery</th>\n",
              "      <td>5325</td>\n",
              "    </tr>\n",
              "    <tr>\n",
              "      <th>Other Notifiable Offences</th>\n",
              "      <td>10112</td>\n",
              "    </tr>\n",
              "    <tr>\n",
              "      <th>Robbery</th>\n",
              "      <td>29627</td>\n",
              "    </tr>\n",
              "    <tr>\n",
              "      <th>Sexual Offences</th>\n",
              "      <td>1273</td>\n",
              "    </tr>\n",
              "    <tr>\n",
              "      <th>Theft and Handling</th>\n",
              "      <td>283692</td>\n",
              "    </tr>\n",
              "    <tr>\n",
              "      <th>Violence Against the Person</th>\n",
              "      <td>159844</td>\n",
              "    </tr>\n",
              "  </tbody>\n",
              "</table>\n",
              "</div>"
            ],
            "text/plain": [
              "                              value\n",
              "crime                              \n",
              "Burglary                      88092\n",
              "Criminal Damage               91872\n",
              "Drugs                         68804\n",
              "Fraud or Forgery               5325\n",
              "Other Notifiable Offences     10112\n",
              "Robbery                       29627\n",
              "Sexual Offences                1273\n",
              "Theft and Handling           283692\n",
              "Violence Against the Person  159844"
            ]
          },
          "metadata": {
            "tags": []
          },
          "execution_count": 58
        }
      ]
    },
    {
      "cell_type": "code",
      "metadata": {
        "colab": {
          "base_uri": "https://localhost:8080/",
          "height": 669
        },
        "id": "lJsOglBuOC1_",
        "outputId": "cedf7404-0098-4adb-d75f-d9f916663a2f"
      },
      "source": [
        "df_crime_westminster['value'].plot(kind=\"pie\", \n",
        "                            figsize=(18,10), \n",
        "                            autopct='%1.1f%%', \n",
        "                            pctdistance=1.12,\n",
        "                            labels=None,\n",
        "                            startangle=90, \n",
        "                            colors=['maroon','yellowgreen','lightskyblue','navy','orange','pink','red', 'palegreen', 'lightblue'])\n",
        "\n",
        "plt.axis('equal')\n",
        "plt.legend(df_crime_westminster.index, loc='upper right', fontsize=15)\n",
        "plt.title('Crime Rates in Westminster on 2008', y=1.12, fontsize=30) \n",
        "plt.ylabel(\"Jumlah\",fontsize=16)\n",
        "plt.show()"
      ],
      "execution_count": 59,
      "outputs": [
        {
          "output_type": "display_data",
          "data": {
            "image/png": "[encoded data removed]",
            "text/plain": [
              "<Figure size 1296x720 with 1 Axes>"
            ]
          },
          "metadata": {
            "tags": []
          }
        }
      ]
    },
    {
      "cell_type": "markdown",
      "metadata": {
        "id": "sfge6iWLfyzf"
      },
      "source": [
        "# Boxplot of Crime in 2008,2012 & 2016"
      ]
    },
    {
      "cell_type": "code",
      "metadata": {
        "id": "uksqfKtIf0Rl"
      },
      "source": [
        "a=df_cr.reset_index()"
      ],
      "execution_count": 60,
      "outputs": []
    },
    {
      "cell_type": "code",
      "metadata": {
        "id": "43mDw23xeV1t"
      },
      "source": [
        "a=a.groupby(by='crime').sum()"
      ],
      "execution_count": 61,
      "outputs": []
    },
    {
      "cell_type": "code",
      "metadata": {
        "id": "QP0y0JO2gcqs"
      },
      "source": [
        "a=a.drop(['value', 'year','month'], axis=1)"
      ],
      "execution_count": 62,
      "outputs": []
    },
    {
      "cell_type": "code",
      "metadata": {
        "id": "w4i4o2xUhQ-f"
      },
      "source": [
        "a[2008] = np.nan\n",
        "a[2012] = np.nan\n",
        "a[2016] = np.nan"
      ],
      "execution_count": 63,
      "outputs": []
    },
    {
      "cell_type": "code",
      "metadata": {
        "colab": {
          "base_uri": "https://localhost:8080/",
          "height": 357
        },
        "id": "6RZNK_dCrRdZ",
        "outputId": "07e6ad27-50dc-4f6e-fd00-94385a24d381"
      },
      "source": [
        "a"
      ],
      "execution_count": 64,
      "outputs": [
        {
          "output_type": "execute_result",
          "data": {
            "text/html": [
              "<div>\n",
              "<style scoped>\n",
              "    .dataframe tbody tr th:only-of-type {\n",
              "        vertical-align: middle;\n",
              "    }\n",
              "\n",
              "    .dataframe tbody tr th {\n",
              "        vertical-align: top;\n",
              "    }\n",
              "\n",
              "    .dataframe thead th {\n",
              "        text-align: right;\n",
              "    }\n",
              "</style>\n",
              "<table border=\"1\" class=\"dataframe\">\n",
              "  <thead>\n",
              "    <tr style=\"text-align: right;\">\n",
              "      <th></th>\n",
              "      <th>2008</th>\n",
              "      <th>2012</th>\n",
              "      <th>2016</th>\n",
              "    </tr>\n",
              "    <tr>\n",
              "      <th>crime</th>\n",
              "      <th></th>\n",
              "      <th></th>\n",
              "      <th></th>\n",
              "    </tr>\n",
              "  </thead>\n",
              "  <tbody>\n",
              "    <tr>\n",
              "      <th>Burglary</th>\n",
              "      <td>NaN</td>\n",
              "      <td>NaN</td>\n",
              "      <td>NaN</td>\n",
              "    </tr>\n",
              "    <tr>\n",
              "      <th>Criminal Damage</th>\n",
              "      <td>NaN</td>\n",
              "      <td>NaN</td>\n",
              "      <td>NaN</td>\n",
              "    </tr>\n",
              "    <tr>\n",
              "      <th>Drugs</th>\n",
              "      <td>NaN</td>\n",
              "      <td>NaN</td>\n",
              "      <td>NaN</td>\n",
              "    </tr>\n",
              "    <tr>\n",
              "      <th>Fraud or Forgery</th>\n",
              "      <td>NaN</td>\n",
              "      <td>NaN</td>\n",
              "      <td>NaN</td>\n",
              "    </tr>\n",
              "    <tr>\n",
              "      <th>Other Notifiable Offences</th>\n",
              "      <td>NaN</td>\n",
              "      <td>NaN</td>\n",
              "      <td>NaN</td>\n",
              "    </tr>\n",
              "    <tr>\n",
              "      <th>Robbery</th>\n",
              "      <td>NaN</td>\n",
              "      <td>NaN</td>\n",
              "      <td>NaN</td>\n",
              "    </tr>\n",
              "    <tr>\n",
              "      <th>Sexual Offences</th>\n",
              "      <td>NaN</td>\n",
              "      <td>NaN</td>\n",
              "      <td>NaN</td>\n",
              "    </tr>\n",
              "    <tr>\n",
              "      <th>Theft and Handling</th>\n",
              "      <td>NaN</td>\n",
              "      <td>NaN</td>\n",
              "      <td>NaN</td>\n",
              "    </tr>\n",
              "    <tr>\n",
              "      <th>Violence Against the Person</th>\n",
              "      <td>NaN</td>\n",
              "      <td>NaN</td>\n",
              "      <td>NaN</td>\n",
              "    </tr>\n",
              "  </tbody>\n",
              "</table>\n",
              "</div>"
            ],
            "text/plain": [
              "                             2008  2012  2016\n",
              "crime                                        \n",
              "Burglary                      NaN   NaN   NaN\n",
              "Criminal Damage               NaN   NaN   NaN\n",
              "Drugs                         NaN   NaN   NaN\n",
              "Fraud or Forgery              NaN   NaN   NaN\n",
              "Other Notifiable Offences     NaN   NaN   NaN\n",
              "Robbery                       NaN   NaN   NaN\n",
              "Sexual Offences               NaN   NaN   NaN\n",
              "Theft and Handling            NaN   NaN   NaN\n",
              "Violence Against the Person   NaN   NaN   NaN"
            ]
          },
          "metadata": {
            "tags": []
          },
          "execution_count": 64
        }
      ]
    },
    {
      "cell_type": "code",
      "metadata": {
        "id": "m7-lF2XHhn2c"
      },
      "source": [
        "df_cr_2008 = df_cr[df_cr[\"year\"]==2008]"
      ],
      "execution_count": 65,
      "outputs": []
    },
    {
      "cell_type": "code",
      "metadata": {
        "id": "N60BYX37qZC0"
      },
      "source": [
        "df_cr_2008 = df_cr_2008.groupby(by='crime')['value'].sum()"
      ],
      "execution_count": 66,
      "outputs": []
    },
    {
      "cell_type": "code",
      "metadata": {
        "colab": {
          "base_uri": "https://localhost:8080/"
        },
        "id": "6qh9YsRctB9s",
        "outputId": "285a5ac0-cf81-480d-cd49-f33444c1a200"
      },
      "source": [
        "df_cr_2008"
      ],
      "execution_count": 67,
      "outputs": [
        {
          "output_type": "execute_result",
          "data": {
            "text/plain": [
              "crime\n",
              "Burglary                        88092\n",
              "Criminal Damage                 91872\n",
              "Drugs                           68804\n",
              "Fraud or Forgery                 5325\n",
              "Other Notifiable Offences       10112\n",
              "Robbery                         29627\n",
              "Sexual Offences                  1273\n",
              "Theft and Handling             283692\n",
              "Violence Against the Person    159844\n",
              "Name: value, dtype: int64"
            ]
          },
          "metadata": {
            "tags": []
          },
          "execution_count": 67
        }
      ]
    },
    {
      "cell_type": "code",
      "metadata": {
        "id": "oO1WPM10rNjv"
      },
      "source": [
        "a[2008].fillna(df_cr_2008, inplace=True)"
      ],
      "execution_count": 68,
      "outputs": []
    },
    {
      "cell_type": "code",
      "metadata": {
        "colab": {
          "base_uri": "https://localhost:8080/",
          "height": 357
        },
        "id": "yQThbTQ7s2uk",
        "outputId": "2045ca03-7a4f-4c4d-9448-4eb6d8a27c1f"
      },
      "source": [
        "a"
      ],
      "execution_count": 69,
      "outputs": [
        {
          "output_type": "execute_result",
          "data": {
            "text/html": [
              "<div>\n",
              "<style scoped>\n",
              "    .dataframe tbody tr th:only-of-type {\n",
              "        vertical-align: middle;\n",
              "    }\n",
              "\n",
              "    .dataframe tbody tr th {\n",
              "        vertical-align: top;\n",
              "    }\n",
              "\n",
              "    .dataframe thead th {\n",
              "        text-align: right;\n",
              "    }\n",
              "</style>\n",
              "<table border=\"1\" class=\"dataframe\">\n",
              "  <thead>\n",
              "    <tr style=\"text-align: right;\">\n",
              "      <th></th>\n",
              "      <th>2008</th>\n",
              "      <th>2012</th>\n",
              "      <th>2016</th>\n",
              "    </tr>\n",
              "    <tr>\n",
              "      <th>crime</th>\n",
              "      <th></th>\n",
              "      <th></th>\n",
              "      <th></th>\n",
              "    </tr>\n",
              "  </thead>\n",
              "  <tbody>\n",
              "    <tr>\n",
              "      <th>Burglary</th>\n",
              "      <td>88092.0</td>\n",
              "      <td>NaN</td>\n",
              "      <td>NaN</td>\n",
              "    </tr>\n",
              "    <tr>\n",
              "      <th>Criminal Damage</th>\n",
              "      <td>91872.0</td>\n",
              "      <td>NaN</td>\n",
              "      <td>NaN</td>\n",
              "    </tr>\n",
              "    <tr>\n",
              "      <th>Drugs</th>\n",
              "      <td>68804.0</td>\n",
              "      <td>NaN</td>\n",
              "      <td>NaN</td>\n",
              "    </tr>\n",
              "    <tr>\n",
              "      <th>Fraud or Forgery</th>\n",
              "      <td>5325.0</td>\n",
              "      <td>NaN</td>\n",
              "      <td>NaN</td>\n",
              "    </tr>\n",
              "    <tr>\n",
              "      <th>Other Notifiable Offences</th>\n",
              "      <td>10112.0</td>\n",
              "      <td>NaN</td>\n",
              "      <td>NaN</td>\n",
              "    </tr>\n",
              "    <tr>\n",
              "      <th>Robbery</th>\n",
              "      <td>29627.0</td>\n",
              "      <td>NaN</td>\n",
              "      <td>NaN</td>\n",
              "    </tr>\n",
              "    <tr>\n",
              "      <th>Sexual Offences</th>\n",
              "      <td>1273.0</td>\n",
              "      <td>NaN</td>\n",
              "      <td>NaN</td>\n",
              "    </tr>\n",
              "    <tr>\n",
              "      <th>Theft and Handling</th>\n",
              "      <td>283692.0</td>\n",
              "      <td>NaN</td>\n",
              "      <td>NaN</td>\n",
              "    </tr>\n",
              "    <tr>\n",
              "      <th>Violence Against the Person</th>\n",
              "      <td>159844.0</td>\n",
              "      <td>NaN</td>\n",
              "      <td>NaN</td>\n",
              "    </tr>\n",
              "  </tbody>\n",
              "</table>\n",
              "</div>"
            ],
            "text/plain": [
              "                                 2008  2012  2016\n",
              "crime                                            \n",
              "Burglary                      88092.0   NaN   NaN\n",
              "Criminal Damage               91872.0   NaN   NaN\n",
              "Drugs                         68804.0   NaN   NaN\n",
              "Fraud or Forgery               5325.0   NaN   NaN\n",
              "Other Notifiable Offences     10112.0   NaN   NaN\n",
              "Robbery                       29627.0   NaN   NaN\n",
              "Sexual Offences                1273.0   NaN   NaN\n",
              "Theft and Handling           283692.0   NaN   NaN\n",
              "Violence Against the Person  159844.0   NaN   NaN"
            ]
          },
          "metadata": {
            "tags": []
          },
          "execution_count": 69
        }
      ]
    },
    {
      "cell_type": "code",
      "metadata": {
        "id": "j0ELsLKeueFG"
      },
      "source": [
        "df_cr_2012 = df_cr[df_cr[\"year\"]==2012]"
      ],
      "execution_count": 70,
      "outputs": []
    },
    {
      "cell_type": "code",
      "metadata": {
        "id": "gNQ8-APAuj85"
      },
      "source": [
        "df_cr_2012 = df_cr_2012.groupby(by='crime')['value'].sum()"
      ],
      "execution_count": 71,
      "outputs": []
    },
    {
      "cell_type": "code",
      "metadata": {
        "id": "pr-qH2vCuo8O"
      },
      "source": [
        "a[2012].fillna(df_cr_2012, inplace=True)"
      ],
      "execution_count": 72,
      "outputs": []
    },
    {
      "cell_type": "code",
      "metadata": {
        "id": "H5ppTC1au23Q"
      },
      "source": [
        "df_cr_2016 = df_cr[df_cr[\"year\"]==2016]\n",
        "df_cr_2016 = df_cr_2016.groupby(by='crime')['value'].sum()\n",
        "a[2016].fillna(df_cr_2016, inplace=True)"
      ],
      "execution_count": 73,
      "outputs": []
    },
    {
      "cell_type": "code",
      "metadata": {
        "colab": {
          "base_uri": "https://localhost:8080/",
          "height": 357
        },
        "id": "kyi6-DdgymAh",
        "outputId": "89e10c2a-b39c-4cb6-c89e-727e8c4cb6cb"
      },
      "source": [
        "a"
      ],
      "execution_count": 74,
      "outputs": [
        {
          "output_type": "execute_result",
          "data": {
            "text/html": [
              "<div>\n",
              "<style scoped>\n",
              "    .dataframe tbody tr th:only-of-type {\n",
              "        vertical-align: middle;\n",
              "    }\n",
              "\n",
              "    .dataframe tbody tr th {\n",
              "        vertical-align: top;\n",
              "    }\n",
              "\n",
              "    .dataframe thead th {\n",
              "        text-align: right;\n",
              "    }\n",
              "</style>\n",
              "<table border=\"1\" class=\"dataframe\">\n",
              "  <thead>\n",
              "    <tr style=\"text-align: right;\">\n",
              "      <th></th>\n",
              "      <th>2008</th>\n",
              "      <th>2012</th>\n",
              "      <th>2016</th>\n",
              "    </tr>\n",
              "    <tr>\n",
              "      <th>crime</th>\n",
              "      <th></th>\n",
              "      <th></th>\n",
              "      <th></th>\n",
              "    </tr>\n",
              "  </thead>\n",
              "  <tbody>\n",
              "    <tr>\n",
              "      <th>Burglary</th>\n",
              "      <td>88092.0</td>\n",
              "      <td>93392.0</td>\n",
              "      <td>68285.0</td>\n",
              "    </tr>\n",
              "    <tr>\n",
              "      <th>Criminal Damage</th>\n",
              "      <td>91872.0</td>\n",
              "      <td>62158.0</td>\n",
              "      <td>64071.0</td>\n",
              "    </tr>\n",
              "    <tr>\n",
              "      <th>Drugs</th>\n",
              "      <td>68804.0</td>\n",
              "      <td>51776.0</td>\n",
              "      <td>38914.0</td>\n",
              "    </tr>\n",
              "    <tr>\n",
              "      <th>Fraud or Forgery</th>\n",
              "      <td>5325.0</td>\n",
              "      <td>0.0</td>\n",
              "      <td>0.0</td>\n",
              "    </tr>\n",
              "    <tr>\n",
              "      <th>Other Notifiable Offences</th>\n",
              "      <td>10112.0</td>\n",
              "      <td>10675.0</td>\n",
              "      <td>15809.0</td>\n",
              "    </tr>\n",
              "    <tr>\n",
              "      <th>Robbery</th>\n",
              "      <td>29627.0</td>\n",
              "      <td>35260.0</td>\n",
              "      <td>22528.0</td>\n",
              "    </tr>\n",
              "    <tr>\n",
              "      <th>Sexual Offences</th>\n",
              "      <td>1273.0</td>\n",
              "      <td>0.0</td>\n",
              "      <td>0.0</td>\n",
              "    </tr>\n",
              "    <tr>\n",
              "      <th>Theft and Handling</th>\n",
              "      <td>283692.0</td>\n",
              "      <td>334054.0</td>\n",
              "      <td>294133.0</td>\n",
              "    </tr>\n",
              "    <tr>\n",
              "      <th>Violence Against the Person</th>\n",
              "      <td>159844.0</td>\n",
              "      <td>150014.0</td>\n",
              "      <td>232381.0</td>\n",
              "    </tr>\n",
              "  </tbody>\n",
              "</table>\n",
              "</div>"
            ],
            "text/plain": [
              "                                 2008      2012      2016\n",
              "crime                                                    \n",
              "Burglary                      88092.0   93392.0   68285.0\n",
              "Criminal Damage               91872.0   62158.0   64071.0\n",
              "Drugs                         68804.0   51776.0   38914.0\n",
              "Fraud or Forgery               5325.0       0.0       0.0\n",
              "Other Notifiable Offences     10112.0   10675.0   15809.0\n",
              "Robbery                       29627.0   35260.0   22528.0\n",
              "Sexual Offences                1273.0       0.0       0.0\n",
              "Theft and Handling           283692.0  334054.0  294133.0\n",
              "Violence Against the Person  159844.0  150014.0  232381.0"
            ]
          },
          "metadata": {
            "tags": []
          },
          "execution_count": 74
        }
      ]
    },
    {
      "cell_type": "code",
      "metadata": {
        "id": "xK6X85hFvgog"
      },
      "source": [
        "a = a[[2008,2012,2016]].astype('int64')"
      ],
      "execution_count": 75,
      "outputs": []
    },
    {
      "cell_type": "code",
      "metadata": {
        "id": "eEYyWveJzMp0"
      },
      "source": [
        "a=a.transpose()"
      ],
      "execution_count": 76,
      "outputs": []
    },
    {
      "cell_type": "code",
      "metadata": {
        "colab": {
          "base_uri": "https://localhost:8080/",
          "height": 609
        },
        "id": "RHqMxsoCzXhY",
        "outputId": "06a28fec-552c-4baa-c4cb-ad977217b189"
      },
      "source": [
        "a.plot(kind='box', figsize=(20,10), color='red')\n",
        "\n",
        "plt.title('Boxplot of Crime in 2008,2012, & 2016', fontsize=25)\n",
        "plt.ylabel('Number of Crime', fontsize=20)\n",
        "plt.xlabel('Crime', fontsize=20)"
      ],
      "execution_count": 77,
      "outputs": [
        {
          "output_type": "execute_result",
          "data": {
            "text/plain": [
              "Text(0.5, 0, 'Crime')"
            ]
          },
          "metadata": {
            "tags": []
          },
          "execution_count": 77
        },
        {
          "output_type": "display_data",
          "data": {
            "image/png": "[encoded data removed]",
            "text/plain": [
              "<Figure size 1440x720 with 1 Axes>"
            ]
          },
          "metadata": {
            "tags": [],
            "needs_background": "light"
          }
        }
      ]
    },
    {
      "cell_type": "code",
      "metadata": {
        "colab": {
          "base_uri": "https://localhost:8080/",
          "height": 158
        },
        "id": "lG3GQktiz4Xk",
        "outputId": "2fb67542-fc88-4d4e-c0a6-7af0cb8948d0"
      },
      "source": [
        "a"
      ],
      "execution_count": 78,
      "outputs": [
        {
          "output_type": "execute_result",
          "data": {
            "text/html": [
              "<div>\n",
              "<style scoped>\n",
              "    .dataframe tbody tr th:only-of-type {\n",
              "        vertical-align: middle;\n",
              "    }\n",
              "\n",
              "    .dataframe tbody tr th {\n",
              "        vertical-align: top;\n",
              "    }\n",
              "\n",
              "    .dataframe thead th {\n",
              "        text-align: right;\n",
              "    }\n",
              "</style>\n",
              "<table border=\"1\" class=\"dataframe\">\n",
              "  <thead>\n",
              "    <tr style=\"text-align: right;\">\n",
              "      <th>crime</th>\n",
              "      <th>Burglary</th>\n",
              "      <th>Criminal Damage</th>\n",
              "      <th>Drugs</th>\n",
              "      <th>Fraud or Forgery</th>\n",
              "      <th>Other Notifiable Offences</th>\n",
              "      <th>Robbery</th>\n",
              "      <th>Sexual Offences</th>\n",
              "      <th>Theft and Handling</th>\n",
              "      <th>Violence Against the Person</th>\n",
              "    </tr>\n",
              "  </thead>\n",
              "  <tbody>\n",
              "    <tr>\n",
              "      <th>2008</th>\n",
              "      <td>88092</td>\n",
              "      <td>91872</td>\n",
              "      <td>68804</td>\n",
              "      <td>5325</td>\n",
              "      <td>10112</td>\n",
              "      <td>29627</td>\n",
              "      <td>1273</td>\n",
              "      <td>283692</td>\n",
              "      <td>159844</td>\n",
              "    </tr>\n",
              "    <tr>\n",
              "      <th>2012</th>\n",
              "      <td>93392</td>\n",
              "      <td>62158</td>\n",
              "      <td>51776</td>\n",
              "      <td>0</td>\n",
              "      <td>10675</td>\n",
              "      <td>35260</td>\n",
              "      <td>0</td>\n",
              "      <td>334054</td>\n",
              "      <td>150014</td>\n",
              "    </tr>\n",
              "    <tr>\n",
              "      <th>2016</th>\n",
              "      <td>68285</td>\n",
              "      <td>64071</td>\n",
              "      <td>38914</td>\n",
              "      <td>0</td>\n",
              "      <td>15809</td>\n",
              "      <td>22528</td>\n",
              "      <td>0</td>\n",
              "      <td>294133</td>\n",
              "      <td>232381</td>\n",
              "    </tr>\n",
              "  </tbody>\n",
              "</table>\n",
              "</div>"
            ],
            "text/plain": [
              "crime  Burglary  ...  Violence Against the Person\n",
              "2008      88092  ...                       159844\n",
              "2012      93392  ...                       150014\n",
              "2016      68285  ...                       232381\n",
              "\n",
              "[3 rows x 9 columns]"
            ]
          },
          "metadata": {
            "tags": []
          },
          "execution_count": 78
        }
      ]
    },
    {
      "cell_type": "markdown",
      "metadata": {
        "id": "LS9UgEDU8l45"
      },
      "source": [
        "# Change Number of Crime in 2008, 2012 & 2016"
      ]
    },
    {
      "cell_type": "markdown",
      "metadata": {
        "id": "GDIY6yC6X5EB"
      },
      "source": [
        "The graph bellow shown the changes in the number of crime in top 3 year highest count of crime."
      ]
    },
    {
      "cell_type": "code",
      "metadata": {
        "colab": {
          "base_uri": "https://localhost:8080/",
          "height": 490
        },
        "id": "JpP7Rfpz__qR",
        "outputId": "a1b10494-d8df-478a-a9d0-412d9fd206c1"
      },
      "source": [
        "count, bin_edges = np.histogram(a, bins=20)\n",
        "\n",
        "a.plot(kind=\"hist\", bins=50, xticks=bin_edges, figsize=(20,8), alpha=0.3, color=[\"red\",\"blue\",\"green\", \"lightblue\",\"darkred\",\"pink\", \"orange\", \"palegreen\", \"yellow\"])\n",
        "\n",
        "plt.title(\"Change Number of Crime in 2008, 2012 & 2016\")\n",
        "plt.ylabel(\"Number of Years\")\n",
        "plt.xlabel(\"Number of Crime\")\n",
        "\n",
        "plt.show()"
      ],
      "execution_count": 79,
      "outputs": [
        {
          "output_type": "display_data",
          "data": {
            "image/png": "[encoded data removed]",
            "text/plain": [
              "<Figure size 1440x576 with 1 Axes>"
            ]
          },
          "metadata": {
            "tags": [],
            "needs_background": "light"
          }
        }
      ]
    },
    {
      "cell_type": "markdown",
      "metadata": {
        "id": "a7yOeMSALTgu"
      },
      "source": [
        "# Crime Areas in London"
      ]
    },
    {
      "cell_type": "markdown",
      "metadata": {
        "id": "ZbbdQPBsXVyy"
      },
      "source": [
        "The graph bellow sort most dangerous area to safest area by count of the crime."
      ]
    },
    {
      "cell_type": "code",
      "metadata": {
        "colab": {
          "base_uri": "https://localhost:8080/"
        },
        "id": "HdDLKZqfelNf",
        "outputId": "8701aeeb-d966-4ed5-d1fe-7f4eb9fdf049"
      },
      "source": [
        "from PIL import Image\n",
        "\n",
        "!pip install wordcloud\n",
        "from wordcloud import WordCloud, STOPWORDS\n",
        "\n",
        "%matplotlib inline\n",
        "\n",
        "import matplotlib as mpl\n",
        "import matplotlib.pyplot as plt\n",
        "mpl.style.use('ggplot')"
      ],
      "execution_count": 80,
      "outputs": [
        {
          "output_type": "stream",
          "text": [
            "Requirement already satisfied: wordcloud in /usr/local/lib/python3.7/dist-packages (1.5.0)\n",
            "Requirement already satisfied: pillow in /usr/local/lib/python3.7/dist-packages (from wordcloud) (7.1.2)\n",
            "Requirement already satisfied: numpy>=1.6.1 in /usr/local/lib/python3.7/dist-packages (from wordcloud) (1.19.5)\n"
          ],
          "name": "stdout"
        }
      ]
    },
    {
      "cell_type": "code",
      "metadata": {
        "colab": {
          "base_uri": "https://localhost:8080/",
          "height": 1000
        },
        "id": "gVu3w1e-Lfaq",
        "outputId": "83e01512-ab7d-4643-c64b-a7121fe19b86"
      },
      "source": [
        "df_sorted_area = df_cr.groupby(by='borough').sum()\n",
        "df_sorted_area.drop(['year', 'month'], axis=1, inplace=True)\n",
        "df_sorted_area"
      ],
      "execution_count": 81,
      "outputs": [
        {
          "output_type": "execute_result",
          "data": {
            "text/html": [
              "<div>\n",
              "<style scoped>\n",
              "    .dataframe tbody tr th:only-of-type {\n",
              "        vertical-align: middle;\n",
              "    }\n",
              "\n",
              "    .dataframe tbody tr th {\n",
              "        vertical-align: top;\n",
              "    }\n",
              "\n",
              "    .dataframe thead th {\n",
              "        text-align: right;\n",
              "    }\n",
              "</style>\n",
              "<table border=\"1\" class=\"dataframe\">\n",
              "  <thead>\n",
              "    <tr style=\"text-align: right;\">\n",
              "      <th></th>\n",
              "      <th>value</th>\n",
              "    </tr>\n",
              "    <tr>\n",
              "      <th>borough</th>\n",
              "      <th></th>\n",
              "    </tr>\n",
              "  </thead>\n",
              "  <tbody>\n",
              "    <tr>\n",
              "      <th>Barking and Dagenham</th>\n",
              "      <td>149447</td>\n",
              "    </tr>\n",
              "    <tr>\n",
              "      <th>Barnet</th>\n",
              "      <td>212191</td>\n",
              "    </tr>\n",
              "    <tr>\n",
              "      <th>Bexley</th>\n",
              "      <td>114136</td>\n",
              "    </tr>\n",
              "    <tr>\n",
              "      <th>Brent</th>\n",
              "      <td>227551</td>\n",
              "    </tr>\n",
              "    <tr>\n",
              "      <th>Bromley</th>\n",
              "      <td>184349</td>\n",
              "    </tr>\n",
              "    <tr>\n",
              "      <th>Camden</th>\n",
              "      <td>275147</td>\n",
              "    </tr>\n",
              "    <tr>\n",
              "      <th>City of London</th>\n",
              "      <td>780</td>\n",
              "    </tr>\n",
              "    <tr>\n",
              "      <th>Croydon</th>\n",
              "      <td>260294</td>\n",
              "    </tr>\n",
              "    <tr>\n",
              "      <th>Ealing</th>\n",
              "      <td>251562</td>\n",
              "    </tr>\n",
              "    <tr>\n",
              "      <th>Enfield</th>\n",
              "      <td>193880</td>\n",
              "    </tr>\n",
              "    <tr>\n",
              "      <th>Greenwich</th>\n",
              "      <td>181568</td>\n",
              "    </tr>\n",
              "    <tr>\n",
              "      <th>Hackney</th>\n",
              "      <td>217119</td>\n",
              "    </tr>\n",
              "    <tr>\n",
              "      <th>Hammersmith and Fulham</th>\n",
              "      <td>185259</td>\n",
              "    </tr>\n",
              "    <tr>\n",
              "      <th>Haringey</th>\n",
              "      <td>213272</td>\n",
              "    </tr>\n",
              "    <tr>\n",
              "      <th>Harrow</th>\n",
              "      <td>116848</td>\n",
              "    </tr>\n",
              "    <tr>\n",
              "      <th>Havering</th>\n",
              "      <td>138947</td>\n",
              "    </tr>\n",
              "    <tr>\n",
              "      <th>Hillingdon</th>\n",
              "      <td>209680</td>\n",
              "    </tr>\n",
              "    <tr>\n",
              "      <th>Hounslow</th>\n",
              "      <td>186772</td>\n",
              "    </tr>\n",
              "    <tr>\n",
              "      <th>Islington</th>\n",
              "      <td>230286</td>\n",
              "    </tr>\n",
              "    <tr>\n",
              "      <th>Kensington and Chelsea</th>\n",
              "      <td>171981</td>\n",
              "    </tr>\n",
              "    <tr>\n",
              "      <th>Kingston upon Thames</th>\n",
              "      <td>89306</td>\n",
              "    </tr>\n",
              "    <tr>\n",
              "      <th>Lambeth</th>\n",
              "      <td>292178</td>\n",
              "    </tr>\n",
              "    <tr>\n",
              "      <th>Lewisham</th>\n",
              "      <td>215137</td>\n",
              "    </tr>\n",
              "    <tr>\n",
              "      <th>Merton</th>\n",
              "      <td>115654</td>\n",
              "    </tr>\n",
              "    <tr>\n",
              "      <th>Newham</th>\n",
              "      <td>262024</td>\n",
              "    </tr>\n",
              "    <tr>\n",
              "      <th>Redbridge</th>\n",
              "      <td>183562</td>\n",
              "    </tr>\n",
              "    <tr>\n",
              "      <th>Richmond upon Thames</th>\n",
              "      <td>96771</td>\n",
              "    </tr>\n",
              "    <tr>\n",
              "      <th>Southwark</th>\n",
              "      <td>278809</td>\n",
              "    </tr>\n",
              "    <tr>\n",
              "      <th>Sutton</th>\n",
              "      <td>100987</td>\n",
              "    </tr>\n",
              "    <tr>\n",
              "      <th>Tower Hamlets</th>\n",
              "      <td>228613</td>\n",
              "    </tr>\n",
              "    <tr>\n",
              "      <th>Waltham Forest</th>\n",
              "      <td>203879</td>\n",
              "    </tr>\n",
              "    <tr>\n",
              "      <th>Wandsworth</th>\n",
              "      <td>204741</td>\n",
              "    </tr>\n",
              "    <tr>\n",
              "      <th>Westminster</th>\n",
              "      <td>455028</td>\n",
              "    </tr>\n",
              "  </tbody>\n",
              "</table>\n",
              "</div>"
            ],
            "text/plain": [
              "                         value\n",
              "borough                       \n",
              "Barking and Dagenham    149447\n",
              "Barnet                  212191\n",
              "Bexley                  114136\n",
              "Brent                   227551\n",
              "Bromley                 184349\n",
              "Camden                  275147\n",
              "City of London             780\n",
              "Croydon                 260294\n",
              "Ealing                  251562\n",
              "Enfield                 193880\n",
              "Greenwich               181568\n",
              "Hackney                 217119\n",
              "Hammersmith and Fulham  185259\n",
              "Haringey                213272\n",
              "Harrow                  116848\n",
              "Havering                138947\n",
              "Hillingdon              209680\n",
              "Hounslow                186772\n",
              "Islington               230286\n",
              "Kensington and Chelsea  171981\n",
              "Kingston upon Thames     89306\n",
              "Lambeth                 292178\n",
              "Lewisham                215137\n",
              "Merton                  115654\n",
              "Newham                  262024\n",
              "Redbridge               183562\n",
              "Richmond upon Thames     96771\n",
              "Southwark               278809\n",
              "Sutton                  100987\n",
              "Tower Hamlets           228613\n",
              "Waltham Forest          203879\n",
              "Wandsworth              204741\n",
              "Westminster             455028"
            ]
          },
          "metadata": {
            "tags": []
          },
          "execution_count": 81
        }
      ]
    },
    {
      "cell_type": "code",
      "metadata": {
        "colab": {
          "base_uri": "https://localhost:8080/"
        },
        "id": "-YoPt1EWdJvY",
        "outputId": "9cf8e24c-31b3-4cf7-ec33-43f7745ce669"
      },
      "source": [
        "total_value = df_sorted_area.sum()\n",
        "total_value"
      ],
      "execution_count": 84,
      "outputs": [
        {
          "output_type": "execute_result",
          "data": {
            "text/plain": [
              "value    6447758\n",
              "dtype: int64"
            ]
          },
          "metadata": {
            "tags": []
          },
          "execution_count": 84
        }
      ]
    },
    {
      "cell_type": "code",
      "metadata": {
        "colab": {
          "base_uri": "https://localhost:8080/"
        },
        "id": "xAT4BdP-fh4k",
        "outputId": "e9702211-e4e4-4a54-89dd-52fd8257dd38"
      },
      "source": [
        "max_words = 1000\n",
        "word_string = \"\"\n",
        "for country in df_sorted_area.index.values:\n",
        "    if (len(country.split(\" \")) > 1):\n",
        "        s_country = country.split(\" \") # dari \"United States of America\"\n",
        "        s_country = \"\".join(s_country) # jadi \"UnitedStatesofAmerica\"\n",
        "    else:\n",
        "        s_country = country \n",
        "    repeat_num = int( df_sorted_area.loc[country, 'value']/float(total_value) * max_words )\n",
        "    word_string += (s_country + ' ') * repeat_num\n",
        "print(len(word_string))"
      ],
      "execution_count": 85,
      "outputs": [
        {
          "output_type": "stream",
          "text": [
            "10058\n"
          ],
          "name": "stdout"
        }
      ]
    },
    {
      "cell_type": "code",
      "metadata": {
        "colab": {
          "base_uri": "https://localhost:8080/",
          "height": 477
        },
        "id": "espvCtt1MIg_",
        "outputId": "551809b8-3fbf-41bb-d146-50e1b07ccb69"
      },
      "source": [
        "can_immi_wordcloud = WordCloud(\n",
        "    background_color=\"black\",\n",
        "    collocations=False\n",
        ")\n",
        "can_immi_wordcloud.generate(word_string)\n",
        "\n",
        "fig = plt.figure()\n",
        "fig.set_figwidth(16)\n",
        "fig.set_figheight(18)\n",
        "\n",
        "plt.imshow(can_immi_wordcloud, interpolation='none')\n",
        "plt.axis('off')\n",
        "plt.show()"
      ],
      "execution_count": 86,
      "outputs": [
        {
          "output_type": "display_data",
          "data": {
            "image/png": "[encoded data removed]",
            "text/plain": [
              "<Figure size 1152x1296 with 1 Axes>"
            ]
          },
          "metadata": {
            "tags": []
          }
        }
      ]
    },
    {
      "cell_type": "markdown",
      "metadata": {
        "id": "6Q0yeGORuIYg"
      },
      "source": [
        "# Number of Crime for Each Month in 2008\n",
        "\n",
        "\n"
      ]
    },
    {
      "cell_type": "markdown",
      "metadata": {
        "id": "4juyM1RcWIeQ"
      },
      "source": [
        "2008 is the highest number of crime from 2008-2016. The graph bellow shown changes in the number of crimes for each month in 2008."
      ]
    },
    {
      "cell_type": "code",
      "metadata": {
        "id": "HgU9Hm9f3ZhL"
      },
      "source": [
        "month_2008 = df_cr[df_cr['year']==2008]\n",
        "month_2008 = month_2008.groupby(by=['month']).sum()\n",
        "month_2008.sort_values(by='value', inplace=True)"
      ],
      "execution_count": 87,
      "outputs": []
    },
    {
      "cell_type": "code",
      "metadata": {
        "colab": {
          "base_uri": "https://localhost:8080/",
          "height": 418
        },
        "id": "XZcQ4TbcAfE7",
        "outputId": "e5883873-df8d-4442-df6f-a473a232cca2"
      },
      "source": [
        "month_2008 = pd.DataFrame(month_2008)\n",
        "month_2008.reset_index(inplace=True)\n",
        "month_2008.drop('year', axis=1, inplace=True)\n",
        "month_2008"
      ],
      "execution_count": 88,
      "outputs": [
        {
          "output_type": "execute_result",
          "data": {
            "text/html": [
              "<div>\n",
              "<style scoped>\n",
              "    .dataframe tbody tr th:only-of-type {\n",
              "        vertical-align: middle;\n",
              "    }\n",
              "\n",
              "    .dataframe tbody tr th {\n",
              "        vertical-align: top;\n",
              "    }\n",
              "\n",
              "    .dataframe thead th {\n",
              "        text-align: right;\n",
              "    }\n",
              "</style>\n",
              "<table border=\"1\" class=\"dataframe\">\n",
              "  <thead>\n",
              "    <tr style=\"text-align: right;\">\n",
              "      <th></th>\n",
              "      <th>month</th>\n",
              "      <th>value</th>\n",
              "    </tr>\n",
              "  </thead>\n",
              "  <tbody>\n",
              "    <tr>\n",
              "      <th>0</th>\n",
              "      <td>12</td>\n",
              "      <td>57488</td>\n",
              "    </tr>\n",
              "    <tr>\n",
              "      <th>1</th>\n",
              "      <td>9</td>\n",
              "      <td>58414</td>\n",
              "    </tr>\n",
              "    <tr>\n",
              "      <th>2</th>\n",
              "      <td>4</td>\n",
              "      <td>59640</td>\n",
              "    </tr>\n",
              "    <tr>\n",
              "      <th>3</th>\n",
              "      <td>8</td>\n",
              "      <td>59959</td>\n",
              "    </tr>\n",
              "    <tr>\n",
              "      <th>4</th>\n",
              "      <td>3</td>\n",
              "      <td>61343</td>\n",
              "    </tr>\n",
              "    <tr>\n",
              "      <th>5</th>\n",
              "      <td>11</td>\n",
              "      <td>61395</td>\n",
              "    </tr>\n",
              "    <tr>\n",
              "      <th>6</th>\n",
              "      <td>6</td>\n",
              "      <td>62290</td>\n",
              "    </tr>\n",
              "    <tr>\n",
              "      <th>7</th>\n",
              "      <td>5</td>\n",
              "      <td>62587</td>\n",
              "    </tr>\n",
              "    <tr>\n",
              "      <th>8</th>\n",
              "      <td>2</td>\n",
              "      <td>62626</td>\n",
              "    </tr>\n",
              "    <tr>\n",
              "      <th>9</th>\n",
              "      <td>10</td>\n",
              "      <td>63354</td>\n",
              "    </tr>\n",
              "    <tr>\n",
              "      <th>10</th>\n",
              "      <td>7</td>\n",
              "      <td>64126</td>\n",
              "    </tr>\n",
              "    <tr>\n",
              "      <th>11</th>\n",
              "      <td>1</td>\n",
              "      <td>65419</td>\n",
              "    </tr>\n",
              "  </tbody>\n",
              "</table>\n",
              "</div>"
            ],
            "text/plain": [
              "    month  value\n",
              "0      12  57488\n",
              "1       9  58414\n",
              "2       4  59640\n",
              "3       8  59959\n",
              "4       3  61343\n",
              "5      11  61395\n",
              "6       6  62290\n",
              "7       5  62587\n",
              "8       2  62626\n",
              "9      10  63354\n",
              "10      7  64126\n",
              "11      1  65419"
            ]
          },
          "metadata": {
            "tags": []
          },
          "execution_count": 88
        }
      ]
    },
    {
      "cell_type": "code",
      "metadata": {
        "id": "G51pYiDPPdBH"
      },
      "source": [
        "month_2008.sort_values(by='month', ascending=True, inplace=True)\n",
        "month_2008.columns=['month', 'value']"
      ],
      "execution_count": 89,
      "outputs": []
    },
    {
      "cell_type": "code",
      "metadata": {
        "colab": {
          "base_uri": "https://localhost:8080/",
          "height": 354
        },
        "id": "pd1RK-KM5DSx",
        "outputId": "57398909-dfd5-4f22-80dd-114aae309422"
      },
      "source": [
        "month_2008.plot(kind=\"scatter\", x='month', y='value', figsize=(5,5))\n",
        "\n",
        "plt.title('Number of Crime in Each Month in 2008')\n",
        "plt.ylabel('Number of Crime')\n",
        "\n",
        "plt.show()"
      ],
      "execution_count": 93,
      "outputs": [
        {
          "output_type": "display_data",
          "data": {
            "image/png": "[encoded data removed]",
            "text/plain": [
              "<Figure size 360x360 with 1 Axes>"
            ]
          },
          "metadata": {
            "tags": []
          }
        }
      ]
    }
  ]
}