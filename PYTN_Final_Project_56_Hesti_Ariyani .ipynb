{
  "nbformat": 4,
  "nbformat_minor": 0,
  "metadata": {
    "colab": {
      "name": "PYTN_Final Project_56_Hesti Ariyani.ipynb",
      "provenance": []
    },
    "kernelspec": {
      "name": "python3",
      "display_name": "Python 3"
    },
    "language_info": {
      "name": "python"
    }
  },
  "cells": [
    {
      "cell_type": "markdown",
      "metadata": {
        "id": "L4f-chH16N3-"
      },
      "source": [
        "![68747470733a2f2f676c6f62616c2d75706c6f6164732e776562666c6f772e636f6d2f3566306435336330343261396564363238386465376638642f3566363333376165326366616131303934366365656230365f4861636b746976382532306c6f676f253230686f72697a6f.png](data:image/png;base64,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)"
      ]
    },
    {
      "cell_type": "markdown",
      "metadata": {
        "id": "uf9M5Rqn7JGw"
      },
      "source": [
        "# **Introduction**"
      ]
    },
    {
      "cell_type": "markdown",
      "metadata": {
        "id": "2TJWwQyn6dOs"
      },
      "source": [
        "The sinking of the Titanic is one of the most infamous shipwrecks in history.\n",
        "\n",
        "On April 15, 1912, during her maiden voyage, the widely considered “unsinkable” RMS Titanic sank after colliding with an iceberg. Unfortunately, there weren’t enough lifeboats for everyone onboard resulting in the death of 1502 out of 2224 passengers and crew.\n",
        "\n",
        "While there was some element of luck involved in surviving, it seems some groups of people were more likely to survive than others.\n",
        "\n",
        "The data consist of 891 row and 11 column. The objective of this project is to predict if a passenger survived the sinking of the Titanic or not. The dataset can be seen in https://www.kaggle.com/c/titanic. \n",
        "\n",
        "The dataset contain :\n",
        "\n",
        "*   survival : Survival\n",
        "*   pclass : Ticket class\n",
        "*   sex : Sex\n",
        "*   age : Age in years\t\n",
        "*   sibsp\t: siblings / spouses aboard the Titanic\n",
        "*   parch : parents / children aboard the Titanic\n",
        "*   ticket : Ticket number\t\n",
        "*   fare : Passenger fare\n",
        "*   cabin :\tCabin number\n",
        "*   embarked : Port of Embarkation\n",
        "\n",
        "\n",
        "\n",
        "\n"
      ]
    },
    {
      "cell_type": "markdown",
      "metadata": {
        "id": "JiVsOpcw9_Ir"
      },
      "source": [
        "# **Import Library**"
      ]
    },
    {
      "cell_type": "code",
      "metadata": {
        "colab": {
          "base_uri": "https://localhost:8080/"
        },
        "id": "HWqEPVZzT5Au",
        "outputId": "8f78fa06-b3c8-4bc7-8baf-5360f0d7842e"
      },
      "source": [
        "pip install jcopml"
      ],
      "execution_count": 1,
      "outputs": [
        {
          "output_type": "stream",
          "text": [
            "Collecting jcopml\n",
            "  Downloading jcopml-1.1.10.tar.gz (20 kB)\n",
            "Requirement already satisfied: numpy in /usr/local/lib/python3.7/dist-packages (from jcopml) (1.19.5)\n",
            "Requirement already satisfied: scipy in /usr/local/lib/python3.7/dist-packages (from jcopml) (1.4.1)\n",
            "Requirement already satisfied: pandas in /usr/local/lib/python3.7/dist-packages (from jcopml) (1.1.5)\n",
            "Requirement already satisfied: scikit-learn in /usr/local/lib/python3.7/dist-packages (from jcopml) (0.22.2.post1)\n",
            "Requirement already satisfied: matplotlib in /usr/local/lib/python3.7/dist-packages (from jcopml) (3.2.2)\n",
            "Requirement already satisfied: seaborn in /usr/local/lib/python3.7/dist-packages (from jcopml) (0.11.1)\n",
            "Collecting scikit-optimize\n",
            "  Downloading scikit_optimize-0.8.1-py2.py3-none-any.whl (101 kB)\n",
            "\u001b[K     |████████████████████████████████| 101 kB 4.4 MB/s \n",
            "\u001b[?25hRequirement already satisfied: ipywidgets in /usr/local/lib/python3.7/dist-packages (from jcopml) (7.6.3)\n",
            "Requirement already satisfied: statsmodels in /usr/local/lib/python3.7/dist-packages (from jcopml) (0.10.2)\n",
            "Requirement already satisfied: widgetsnbextension~=3.5.0 in /usr/local/lib/python3.7/dist-packages (from ipywidgets->jcopml) (3.5.1)\n",
            "Requirement already satisfied: jupyterlab-widgets>=1.0.0 in /usr/local/lib/python3.7/dist-packages (from ipywidgets->jcopml) (1.0.0)\n",
            "Requirement already satisfied: nbformat>=4.2.0 in /usr/local/lib/python3.7/dist-packages (from ipywidgets->jcopml) (5.1.3)\n",
            "Requirement already satisfied: ipykernel>=4.5.1 in /usr/local/lib/python3.7/dist-packages (from ipywidgets->jcopml) (4.10.1)\n",
            "Requirement already satisfied: ipython>=4.0.0 in /usr/local/lib/python3.7/dist-packages (from ipywidgets->jcopml) (5.5.0)\n",
            "Requirement already satisfied: traitlets>=4.3.1 in /usr/local/lib/python3.7/dist-packages (from ipywidgets->jcopml) (5.0.5)\n",
            "Requirement already satisfied: tornado>=4.0 in /usr/local/lib/python3.7/dist-packages (from ipykernel>=4.5.1->ipywidgets->jcopml) (5.1.1)\n",
            "Requirement already satisfied: jupyter-client in /usr/local/lib/python3.7/dist-packages (from ipykernel>=4.5.1->ipywidgets->jcopml) (5.3.5)\n",
            "Requirement already satisfied: setuptools>=18.5 in /usr/local/lib/python3.7/dist-packages (from ipython>=4.0.0->ipywidgets->jcopml) (57.2.0)\n",
            "Requirement already satisfied: pickleshare in /usr/local/lib/python3.7/dist-packages (from ipython>=4.0.0->ipywidgets->jcopml) (0.7.5)\n",
            "Requirement already satisfied: simplegeneric>0.8 in /usr/local/lib/python3.7/dist-packages (from ipython>=4.0.0->ipywidgets->jcopml) (0.8.1)\n",
            "Requirement already satisfied: prompt-toolkit<2.0.0,>=1.0.4 in /usr/local/lib/python3.7/dist-packages (from ipython>=4.0.0->ipywidgets->jcopml) (1.0.18)\n",
            "Requirement already satisfied: pexpect in /usr/local/lib/python3.7/dist-packages (from ipython>=4.0.0->ipywidgets->jcopml) (4.8.0)\n",
            "Requirement already satisfied: decorator in /usr/local/lib/python3.7/dist-packages (from ipython>=4.0.0->ipywidgets->jcopml) (4.4.2)\n",
            "Requirement already satisfied: pygments in /usr/local/lib/python3.7/dist-packages (from ipython>=4.0.0->ipywidgets->jcopml) (2.6.1)\n",
            "Requirement already satisfied: jsonschema!=2.5.0,>=2.4 in /usr/local/lib/python3.7/dist-packages (from nbformat>=4.2.0->ipywidgets->jcopml) (2.6.0)\n",
            "Requirement already satisfied: jupyter-core in /usr/local/lib/python3.7/dist-packages (from nbformat>=4.2.0->ipywidgets->jcopml) (4.7.1)\n",
            "Requirement already satisfied: ipython-genutils in /usr/local/lib/python3.7/dist-packages (from nbformat>=4.2.0->ipywidgets->jcopml) (0.2.0)\n",
            "Requirement already satisfied: wcwidth in /usr/local/lib/python3.7/dist-packages (from prompt-toolkit<2.0.0,>=1.0.4->ipython>=4.0.0->ipywidgets->jcopml) (0.2.5)\n",
            "Requirement already satisfied: six>=1.9.0 in /usr/local/lib/python3.7/dist-packages (from prompt-toolkit<2.0.0,>=1.0.4->ipython>=4.0.0->ipywidgets->jcopml) (1.15.0)\n",
            "Requirement already satisfied: notebook>=4.4.1 in /usr/local/lib/python3.7/dist-packages (from widgetsnbextension~=3.5.0->ipywidgets->jcopml) (5.3.1)\n",
            "Requirement already satisfied: nbconvert in /usr/local/lib/python3.7/dist-packages (from notebook>=4.4.1->widgetsnbextension~=3.5.0->ipywidgets->jcopml) (5.6.1)\n",
            "Requirement already satisfied: terminado>=0.8.1 in /usr/local/lib/python3.7/dist-packages (from notebook>=4.4.1->widgetsnbextension~=3.5.0->ipywidgets->jcopml) (0.10.1)\n",
            "Requirement already satisfied: Send2Trash in /usr/local/lib/python3.7/dist-packages (from notebook>=4.4.1->widgetsnbextension~=3.5.0->ipywidgets->jcopml) (1.7.1)\n",
            "Requirement already satisfied: jinja2 in /usr/local/lib/python3.7/dist-packages (from notebook>=4.4.1->widgetsnbextension~=3.5.0->ipywidgets->jcopml) (2.11.3)\n",
            "Requirement already satisfied: pyzmq>=13 in /usr/local/lib/python3.7/dist-packages (from jupyter-client->ipykernel>=4.5.1->ipywidgets->jcopml) (22.1.0)\n",
            "Requirement already satisfied: python-dateutil>=2.1 in /usr/local/lib/python3.7/dist-packages (from jupyter-client->ipykernel>=4.5.1->ipywidgets->jcopml) (2.8.1)\n",
            "Requirement already satisfied: ptyprocess in /usr/local/lib/python3.7/dist-packages (from terminado>=0.8.1->notebook>=4.4.1->widgetsnbextension~=3.5.0->ipywidgets->jcopml) (0.7.0)\n",
            "Requirement already satisfied: MarkupSafe>=0.23 in /usr/local/lib/python3.7/dist-packages (from jinja2->notebook>=4.4.1->widgetsnbextension~=3.5.0->ipywidgets->jcopml) (2.0.1)\n",
            "Requirement already satisfied: kiwisolver>=1.0.1 in /usr/local/lib/python3.7/dist-packages (from matplotlib->jcopml) (1.3.1)\n",
            "Requirement already satisfied: pyparsing!=2.0.4,!=2.1.2,!=2.1.6,>=2.0.1 in /usr/local/lib/python3.7/dist-packages (from matplotlib->jcopml) (2.4.7)\n",
            "Requirement already satisfied: cycler>=0.10 in /usr/local/lib/python3.7/dist-packages (from matplotlib->jcopml) (0.10.0)\n",
            "Requirement already satisfied: entrypoints>=0.2.2 in /usr/local/lib/python3.7/dist-packages (from nbconvert->notebook>=4.4.1->widgetsnbextension~=3.5.0->ipywidgets->jcopml) (0.3)\n",
            "Requirement already satisfied: bleach in /usr/local/lib/python3.7/dist-packages (from nbconvert->notebook>=4.4.1->widgetsnbextension~=3.5.0->ipywidgets->jcopml) (3.3.0)\n",
            "Requirement already satisfied: mistune<2,>=0.8.1 in /usr/local/lib/python3.7/dist-packages (from nbconvert->notebook>=4.4.1->widgetsnbextension~=3.5.0->ipywidgets->jcopml) (0.8.4)\n",
            "Requirement already satisfied: pandocfilters>=1.4.1 in /usr/local/lib/python3.7/dist-packages (from nbconvert->notebook>=4.4.1->widgetsnbextension~=3.5.0->ipywidgets->jcopml) (1.4.3)\n",
            "Requirement already satisfied: testpath in /usr/local/lib/python3.7/dist-packages (from nbconvert->notebook>=4.4.1->widgetsnbextension~=3.5.0->ipywidgets->jcopml) (0.5.0)\n",
            "Requirement already satisfied: defusedxml in /usr/local/lib/python3.7/dist-packages (from nbconvert->notebook>=4.4.1->widgetsnbextension~=3.5.0->ipywidgets->jcopml) (0.7.1)\n",
            "Requirement already satisfied: webencodings in /usr/local/lib/python3.7/dist-packages (from bleach->nbconvert->notebook>=4.4.1->widgetsnbextension~=3.5.0->ipywidgets->jcopml) (0.5.1)\n",
            "Requirement already satisfied: packaging in /usr/local/lib/python3.7/dist-packages (from bleach->nbconvert->notebook>=4.4.1->widgetsnbextension~=3.5.0->ipywidgets->jcopml) (21.0)\n",
            "Requirement already satisfied: pytz>=2017.2 in /usr/local/lib/python3.7/dist-packages (from pandas->jcopml) (2018.9)\n",
            "Requirement already satisfied: joblib>=0.11 in /usr/local/lib/python3.7/dist-packages (from scikit-learn->jcopml) (1.0.1)\n",
            "Collecting pyaml>=16.9\n",
            "  Downloading pyaml-20.4.0-py2.py3-none-any.whl (17 kB)\n",
            "Requirement already satisfied: PyYAML in /usr/local/lib/python3.7/dist-packages (from pyaml>=16.9->scikit-optimize->jcopml) (3.13)\n",
            "Requirement already satisfied: patsy>=0.4.0 in /usr/local/lib/python3.7/dist-packages (from statsmodels->jcopml) (0.5.1)\n",
            "Building wheels for collected packages: jcopml\n",
            "  Building wheel for jcopml (setup.py) ... \u001b[?25l\u001b[?25hdone\n",
            "  Created wheel for jcopml: filename=jcopml-1.1.10-py2.py3-none-any.whl size=33230 sha256=0c35090fd308118faaabca41bbb207a49a6778d76838cf1524f6b2e7f89ef83f\n",
            "  Stored in directory: /root/.cache/pip/wheels/1e/b0/7a/2e3db99fcf3707a61b80c5193e1155acc8eaf730c510424c6b\n",
            "Successfully built jcopml\n",
            "Installing collected packages: pyaml, scikit-optimize, jcopml\n",
            "Successfully installed jcopml-1.1.10 pyaml-20.4.0 scikit-optimize-0.8.1\n"
          ],
          "name": "stdout"
        }
      ]
    },
    {
      "cell_type": "code",
      "metadata": {
        "id": "TOTUKnPQ6OL2"
      },
      "source": [
        "import numpy as np\n",
        "import pandas as pd\n",
        "import matplotlib.pyplot as plt\n",
        "import seaborn as sns\n",
        "from jcopml.plot import plot_missing_value\n",
        "from sklearn.model_selection import train_test_split\n",
        "from sklearn.neighbors import KNeighborsClassifier\n",
        "from sklearn.preprocessing import MinMaxScaler\n",
        "from sklearn.metrics import mean_squared_error\n",
        "from sklearn.metrics import accuracy_score\n",
        "from sklearn.metrics import accuracy_score\n",
        "from sklearn.metrics import confusion_matrix, classification_report\n",
        "import math"
      ],
      "execution_count": 2,
      "outputs": []
    },
    {
      "cell_type": "markdown",
      "metadata": {
        "id": "iChRvhEz-Lyd"
      },
      "source": [
        "# **Data Loading & EDA**"
      ]
    },
    {
      "cell_type": "code",
      "metadata": {
        "id": "AF-6hE494-Zv"
      },
      "source": [
        "df = pd.read_csv('/content/titanic.csv')"
      ],
      "execution_count": 3,
      "outputs": []
    },
    {
      "cell_type": "code",
      "metadata": {
        "colab": {
          "base_uri": "https://localhost:8080/",
          "height": 237
        },
        "id": "DFJnAh-C5U6A",
        "outputId": "7c0f03a3-6c38-4886-d497-1c27bbfd43e2"
      },
      "source": [
        "df.head()"
      ],
      "execution_count": 4,
      "outputs": [
        {
          "output_type": "execute_result",
          "data": {
            "text/html": [
              "<div>\n",
              "<style scoped>\n",
              "    .dataframe tbody tr th:only-of-type {\n",
              "        vertical-align: middle;\n",
              "    }\n",
              "\n",
              "    .dataframe tbody tr th {\n",
              "        vertical-align: top;\n",
              "    }\n",
              "\n",
              "    .dataframe thead th {\n",
              "        text-align: right;\n",
              "    }\n",
              "</style>\n",
              "<table border=\"1\" class=\"dataframe\">\n",
              "  <thead>\n",
              "    <tr style=\"text-align: right;\">\n",
              "      <th></th>\n",
              "      <th>PassengerId</th>\n",
              "      <th>Survived</th>\n",
              "      <th>Pclass</th>\n",
              "      <th>Name</th>\n",
              "      <th>Sex</th>\n",
              "      <th>Age</th>\n",
              "      <th>SibSp</th>\n",
              "      <th>Parch</th>\n",
              "      <th>Ticket</th>\n",
              "      <th>Fare</th>\n",
              "      <th>Cabin</th>\n",
              "      <th>Embarked</th>\n",
              "    </tr>\n",
              "  </thead>\n",
              "  <tbody>\n",
              "    <tr>\n",
              "      <th>0</th>\n",
              "      <td>1</td>\n",
              "      <td>0</td>\n",
              "      <td>3</td>\n",
              "      <td>Braund, Mr. Owen Harris</td>\n",
              "      <td>male</td>\n",
              "      <td>22.0</td>\n",
              "      <td>1</td>\n",
              "      <td>0</td>\n",
              "      <td>A/5 21171</td>\n",
              "      <td>7.2500</td>\n",
              "      <td>NaN</td>\n",
              "      <td>S</td>\n",
              "    </tr>\n",
              "    <tr>\n",
              "      <th>1</th>\n",
              "      <td>2</td>\n",
              "      <td>1</td>\n",
              "      <td>1</td>\n",
              "      <td>Cumings, Mrs. John Bradley (Florence Briggs Th...</td>\n",
              "      <td>female</td>\n",
              "      <td>38.0</td>\n",
              "      <td>1</td>\n",
              "      <td>0</td>\n",
              "      <td>PC 17599</td>\n",
              "      <td>71.2833</td>\n",
              "      <td>C85</td>\n",
              "      <td>C</td>\n",
              "    </tr>\n",
              "    <tr>\n",
              "      <th>2</th>\n",
              "      <td>3</td>\n",
              "      <td>1</td>\n",
              "      <td>3</td>\n",
              "      <td>Heikkinen, Miss. Laina</td>\n",
              "      <td>female</td>\n",
              "      <td>26.0</td>\n",
              "      <td>0</td>\n",
              "      <td>0</td>\n",
              "      <td>STON/O2. 3101282</td>\n",
              "      <td>7.9250</td>\n",
              "      <td>NaN</td>\n",
              "      <td>S</td>\n",
              "    </tr>\n",
              "    <tr>\n",
              "      <th>3</th>\n",
              "      <td>4</td>\n",
              "      <td>1</td>\n",
              "      <td>1</td>\n",
              "      <td>Futrelle, Mrs. Jacques Heath (Lily May Peel)</td>\n",
              "      <td>female</td>\n",
              "      <td>35.0</td>\n",
              "      <td>1</td>\n",
              "      <td>0</td>\n",
              "      <td>113803</td>\n",
              "      <td>53.1000</td>\n",
              "      <td>C123</td>\n",
              "      <td>S</td>\n",
              "    </tr>\n",
              "    <tr>\n",
              "      <th>4</th>\n",
              "      <td>5</td>\n",
              "      <td>0</td>\n",
              "      <td>3</td>\n",
              "      <td>Allen, Mr. William Henry</td>\n",
              "      <td>male</td>\n",
              "      <td>35.0</td>\n",
              "      <td>0</td>\n",
              "      <td>0</td>\n",
              "      <td>373450</td>\n",
              "      <td>8.0500</td>\n",
              "      <td>NaN</td>\n",
              "      <td>S</td>\n",
              "    </tr>\n",
              "  </tbody>\n",
              "</table>\n",
              "</div>"
            ],
            "text/plain": [
              "   PassengerId  Survived  Pclass  ...     Fare Cabin  Embarked\n",
              "0            1         0       3  ...   7.2500   NaN         S\n",
              "1            2         1       1  ...  71.2833   C85         C\n",
              "2            3         1       3  ...   7.9250   NaN         S\n",
              "3            4         1       1  ...  53.1000  C123         S\n",
              "4            5         0       3  ...   8.0500   NaN         S\n",
              "\n",
              "[5 rows x 12 columns]"
            ]
          },
          "metadata": {
            "tags": []
          },
          "execution_count": 4
        }
      ]
    },
    {
      "cell_type": "code",
      "metadata": {
        "colab": {
          "base_uri": "https://localhost:8080/"
        },
        "id": "H2yl4X_O-h8t",
        "outputId": "74bef8e3-53e4-4aba-a5d6-35e7e303a5cc"
      },
      "source": [
        "df.shape"
      ],
      "execution_count": 5,
      "outputs": [
        {
          "output_type": "execute_result",
          "data": {
            "text/plain": [
              "(891, 12)"
            ]
          },
          "metadata": {
            "tags": []
          },
          "execution_count": 5
        }
      ]
    },
    {
      "cell_type": "code",
      "metadata": {
        "colab": {
          "base_uri": "https://localhost:8080/"
        },
        "id": "94hXOLhi_Hm_",
        "outputId": "a105f842-5459-4e92-cb39-4ff75da56934"
      },
      "source": [
        "df.info()"
      ],
      "execution_count": 6,
      "outputs": [
        {
          "output_type": "stream",
          "text": [
            "<class 'pandas.core.frame.DataFrame'>\n",
            "RangeIndex: 891 entries, 0 to 890\n",
            "Data columns (total 12 columns):\n",
            " #   Column       Non-Null Count  Dtype  \n",
            "---  ------       --------------  -----  \n",
            " 0   PassengerId  891 non-null    int64  \n",
            " 1   Survived     891 non-null    int64  \n",
            " 2   Pclass       891 non-null    int64  \n",
            " 3   Name         891 non-null    object \n",
            " 4   Sex          891 non-null    object \n",
            " 5   Age          714 non-null    float64\n",
            " 6   SibSp        891 non-null    int64  \n",
            " 7   Parch        891 non-null    int64  \n",
            " 8   Ticket       891 non-null    object \n",
            " 9   Fare         891 non-null    float64\n",
            " 10  Cabin        204 non-null    object \n",
            " 11  Embarked     889 non-null    object \n",
            "dtypes: float64(2), int64(5), object(5)\n",
            "memory usage: 83.7+ KB\n"
          ],
          "name": "stdout"
        }
      ]
    },
    {
      "cell_type": "code",
      "metadata": {
        "id": "fFHizCJXCi19"
      },
      "source": [
        "# Name & Ticket is not impact to the result, therefore we drop the feature.\n",
        "df.drop(columns=[\"Name\", \"Ticket\"], inplace=True)"
      ],
      "execution_count": 7,
      "outputs": []
    },
    {
      "cell_type": "code",
      "metadata": {
        "colab": {
          "base_uri": "https://localhost:8080/"
        },
        "id": "GptVvV8dKzJk",
        "outputId": "5d16cecf-6dc1-4def-c019-2e79bee57344"
      },
      "source": [
        "#handling missing value\n",
        "df.isna().sum()"
      ],
      "execution_count": 8,
      "outputs": [
        {
          "output_type": "execute_result",
          "data": {
            "text/plain": [
              "PassengerId      0\n",
              "Survived         0\n",
              "Pclass           0\n",
              "Sex              0\n",
              "Age            177\n",
              "SibSp            0\n",
              "Parch            0\n",
              "Fare             0\n",
              "Cabin          687\n",
              "Embarked         2\n",
              "dtype: int64"
            ]
          },
          "metadata": {
            "tags": []
          },
          "execution_count": 8
        }
      ]
    },
    {
      "cell_type": "code",
      "metadata": {
        "colab": {
          "base_uri": "https://localhost:8080/",
          "height": 493
        },
        "id": "Anr-xvCYTuP2",
        "outputId": "fb3e0feb-0e58-48f9-80a3-7dcb59c5ffe5"
      },
      "source": [
        "plot_missing_value(df)"
      ],
      "execution_count": 9,
      "outputs": [
        {
          "output_type": "display_data",
          "data": {
            "image/png": "[encoded data removed]",
            "text/plain": [
              "<Figure size 1080x576 with 1 Axes>"
            ]
          },
          "metadata": {
            "tags": [],
            "needs_background": "light"
          }
        }
      ]
    },
    {
      "cell_type": "markdown",
      "metadata": {
        "id": "1-is_MxBUI29"
      },
      "source": [
        "Age & cabin column have a lot of missing value therefore i decided to drop the columns. There are 2 missing values in embarked column, i try to fillna with most frequent data."
      ]
    },
    {
      "cell_type": "code",
      "metadata": {
        "id": "jLlpnxgTUfmG"
      },
      "source": [
        "df.drop(columns=[\"Age\", \"Cabin\"], inplace=True)"
      ],
      "execution_count": 10,
      "outputs": []
    },
    {
      "cell_type": "code",
      "metadata": {
        "colab": {
          "base_uri": "https://localhost:8080/"
        },
        "id": "jGuPPYLoWb5c",
        "outputId": "c054b5aa-1da0-41a3-d02e-cc9f4169407f"
      },
      "source": [
        "df.Embarked.value_counts()"
      ],
      "execution_count": 11,
      "outputs": [
        {
          "output_type": "execute_result",
          "data": {
            "text/plain": [
              "S    644\n",
              "C    168\n",
              "Q     77\n",
              "Name: Embarked, dtype: int64"
            ]
          },
          "metadata": {
            "tags": []
          },
          "execution_count": 11
        }
      ]
    },
    {
      "cell_type": "code",
      "metadata": {
        "id": "pGodf3x4XAol"
      },
      "source": [
        "df.Embarked.fillna(\"S\", inplace=True)"
      ],
      "execution_count": 12,
      "outputs": []
    },
    {
      "cell_type": "code",
      "metadata": {
        "colab": {
          "base_uri": "https://localhost:8080/",
          "height": 493
        },
        "id": "quJvThjJXLVC",
        "outputId": "68331992-c4ca-4d9a-c377-1dc4997cd0c1"
      },
      "source": [
        "plot_missing_value(df)"
      ],
      "execution_count": 13,
      "outputs": [
        {
          "output_type": "display_data",
          "data": {
            "image/png": "[encoded data removed]",
            "text/plain": [
              "<Figure size 1080x576 with 1 Axes>"
            ]
          },
          "metadata": {
            "tags": [],
            "needs_background": "light"
          }
        }
      ]
    },
    {
      "cell_type": "code",
      "metadata": {
        "colab": {
          "base_uri": "https://localhost:8080/"
        },
        "id": "EVdwGON0ZayQ",
        "outputId": "448e9a98-8fff-4235-8531-870bcd82ed60"
      },
      "source": [
        "df.info()"
      ],
      "execution_count": 14,
      "outputs": [
        {
          "output_type": "stream",
          "text": [
            "<class 'pandas.core.frame.DataFrame'>\n",
            "RangeIndex: 891 entries, 0 to 890\n",
            "Data columns (total 8 columns):\n",
            " #   Column       Non-Null Count  Dtype  \n",
            "---  ------       --------------  -----  \n",
            " 0   PassengerId  891 non-null    int64  \n",
            " 1   Survived     891 non-null    int64  \n",
            " 2   Pclass       891 non-null    int64  \n",
            " 3   Sex          891 non-null    object \n",
            " 4   SibSp        891 non-null    int64  \n",
            " 5   Parch        891 non-null    int64  \n",
            " 6   Fare         891 non-null    float64\n",
            " 7   Embarked     891 non-null    object \n",
            "dtypes: float64(1), int64(5), object(2)\n",
            "memory usage: 55.8+ KB\n"
          ],
          "name": "stdout"
        }
      ]
    },
    {
      "cell_type": "markdown",
      "metadata": {
        "id": "h147r8qXYQVa"
      },
      "source": [
        "Visualize the data to get better understanding using seaborn"
      ]
    },
    {
      "cell_type": "code",
      "metadata": {
        "id": "2fJB4qkMbZjK"
      },
      "source": [
        "categorical = df.drop(columns=['Fare', 'PassengerId'])"
      ],
      "execution_count": 15,
      "outputs": []
    },
    {
      "cell_type": "code",
      "metadata": {
        "colab": {
          "base_uri": "https://localhost:8080/",
          "height": 1000
        },
        "id": "F4N0pxIwbsL9",
        "outputId": "52d64f18-d98a-433a-d321-0a5e5716f4da"
      },
      "source": [
        "for i in categorical:\n",
        "    fig, ax = plt.subplots(figsize=(12, 8))\n",
        "    \n",
        "    sns.countplot(x = categorical[i], data = df)\n",
        "    \n",
        "\n",
        "    plt.xticks(rotation=30)"
      ],
      "execution_count": 16,
      "outputs": [
        {
          "output_type": "display_data",
          "data": {
            "image/png": "[encoded data removed]",
            "text/plain": [
              "<Figure size 864x576 with 1 Axes>"
            ]
          },
          "metadata": {
            "tags": [],
            "needs_background": "light"
          }
        },
        {
          "output_type": "display_data",
          "data": {
            "image/png": "[encoded data removed]",
            "text/plain": [
              "<Figure size 864x576 with 1 Axes>"
            ]
          },
          "metadata": {
            "tags": [],
            "needs_background": "light"
          }
        },
        {
          "output_type": "display_data",
          "data": {
            "image/png": "[encoded data removed]",
            "text/plain": [
              "<Figure size 864x576 with 1 Axes>"
            ]
          },
          "metadata": {
            "tags": [],
            "needs_background": "light"
          }
        },
        {
          "output_type": "display_data",
          "data": {
            "image/png": "[encoded data removed]",
            "text/plain": [
              "<Figure size 864x576 with 1 Axes>"
            ]
          },
          "metadata": {
            "tags": [],
            "needs_background": "light"
          }
        },
        {
          "output_type": "display_data",
          "data": {
            "image/png": "[encoded data removed]",
            "text/plain": [
              "<Figure size 864x576 with 1 Axes>"
            ]
          },
          "metadata": {
            "tags": [],
            "needs_background": "light"
          }
        },
        {
          "output_type": "display_data",
          "data": {
            "image/png": "[encoded data removed]",
            "text/plain": [
              "<Figure size 864x576 with 1 Axes>"
            ]
          },
          "metadata": {
            "tags": [],
            "needs_background": "light"
          }
        }
      ]
    },
    {
      "cell_type": "markdown",
      "metadata": {
        "id": "9KGQKqucdyTv"
      },
      "source": [
        "From the visual above we get insights :\n",
        "\n",
        "*   Most of the passengers are not survived\n",
        "*   Most of the passengers from class 3 (lowest class)\n",
        "*   Most of the passengers are male\n",
        "*   Most of the passengers are alone\n",
        "*   Most of the passengers' embarked is S"
      ]
    },
    {
      "cell_type": "code",
      "metadata": {
        "id": "BY_iyIGMieb2"
      },
      "source": [
        "categoric = categorical.drop(columns=\"Survived\")"
      ],
      "execution_count": 17,
      "outputs": []
    },
    {
      "cell_type": "code",
      "metadata": {
        "colab": {
          "base_uri": "https://localhost:8080/",
          "height": 417
        },
        "id": "meZikjnSlJtp",
        "outputId": "16f21162-bdc2-404b-f4c0-eeefcbbc9468"
      },
      "source": [
        "categoric"
      ],
      "execution_count": 18,
      "outputs": [
        {
          "output_type": "execute_result",
          "data": {
            "text/html": [
              "<div>\n",
              "<style scoped>\n",
              "    .dataframe tbody tr th:only-of-type {\n",
              "        vertical-align: middle;\n",
              "    }\n",
              "\n",
              "    .dataframe tbody tr th {\n",
              "        vertical-align: top;\n",
              "    }\n",
              "\n",
              "    .dataframe thead th {\n",
              "        text-align: right;\n",
              "    }\n",
              "</style>\n",
              "<table border=\"1\" class=\"dataframe\">\n",
              "  <thead>\n",
              "    <tr style=\"text-align: right;\">\n",
              "      <th></th>\n",
              "      <th>Pclass</th>\n",
              "      <th>Sex</th>\n",
              "      <th>SibSp</th>\n",
              "      <th>Parch</th>\n",
              "      <th>Embarked</th>\n",
              "    </tr>\n",
              "  </thead>\n",
              "  <tbody>\n",
              "    <tr>\n",
              "      <th>0</th>\n",
              "      <td>3</td>\n",
              "      <td>male</td>\n",
              "      <td>1</td>\n",
              "      <td>0</td>\n",
              "      <td>S</td>\n",
              "    </tr>\n",
              "    <tr>\n",
              "      <th>1</th>\n",
              "      <td>1</td>\n",
              "      <td>female</td>\n",
              "      <td>1</td>\n",
              "      <td>0</td>\n",
              "      <td>C</td>\n",
              "    </tr>\n",
              "    <tr>\n",
              "      <th>2</th>\n",
              "      <td>3</td>\n",
              "      <td>female</td>\n",
              "      <td>0</td>\n",
              "      <td>0</td>\n",
              "      <td>S</td>\n",
              "    </tr>\n",
              "    <tr>\n",
              "      <th>3</th>\n",
              "      <td>1</td>\n",
              "      <td>female</td>\n",
              "      <td>1</td>\n",
              "      <td>0</td>\n",
              "      <td>S</td>\n",
              "    </tr>\n",
              "    <tr>\n",
              "      <th>4</th>\n",
              "      <td>3</td>\n",
              "      <td>male</td>\n",
              "      <td>0</td>\n",
              "      <td>0</td>\n",
              "      <td>S</td>\n",
              "    </tr>\n",
              "    <tr>\n",
              "      <th>...</th>\n",
              "      <td>...</td>\n",
              "      <td>...</td>\n",
              "      <td>...</td>\n",
              "      <td>...</td>\n",
              "      <td>...</td>\n",
              "    </tr>\n",
              "    <tr>\n",
              "      <th>886</th>\n",
              "      <td>2</td>\n",
              "      <td>male</td>\n",
              "      <td>0</td>\n",
              "      <td>0</td>\n",
              "      <td>S</td>\n",
              "    </tr>\n",
              "    <tr>\n",
              "      <th>887</th>\n",
              "      <td>1</td>\n",
              "      <td>female</td>\n",
              "      <td>0</td>\n",
              "      <td>0</td>\n",
              "      <td>S</td>\n",
              "    </tr>\n",
              "    <tr>\n",
              "      <th>888</th>\n",
              "      <td>3</td>\n",
              "      <td>female</td>\n",
              "      <td>1</td>\n",
              "      <td>2</td>\n",
              "      <td>S</td>\n",
              "    </tr>\n",
              "    <tr>\n",
              "      <th>889</th>\n",
              "      <td>1</td>\n",
              "      <td>male</td>\n",
              "      <td>0</td>\n",
              "      <td>0</td>\n",
              "      <td>C</td>\n",
              "    </tr>\n",
              "    <tr>\n",
              "      <th>890</th>\n",
              "      <td>3</td>\n",
              "      <td>male</td>\n",
              "      <td>0</td>\n",
              "      <td>0</td>\n",
              "      <td>Q</td>\n",
              "    </tr>\n",
              "  </tbody>\n",
              "</table>\n",
              "<p>891 rows × 5 columns</p>\n",
              "</div>"
            ],
            "text/plain": [
              "     Pclass     Sex  SibSp  Parch Embarked\n",
              "0         3    male      1      0        S\n",
              "1         1  female      1      0        C\n",
              "2         3  female      0      0        S\n",
              "3         1  female      1      0        S\n",
              "4         3    male      0      0        S\n",
              "..      ...     ...    ...    ...      ...\n",
              "886       2    male      0      0        S\n",
              "887       1  female      0      0        S\n",
              "888       3  female      1      2        S\n",
              "889       1    male      0      0        C\n",
              "890       3    male      0      0        Q\n",
              "\n",
              "[891 rows x 5 columns]"
            ]
          },
          "metadata": {
            "tags": []
          },
          "execution_count": 18
        }
      ]
    },
    {
      "cell_type": "markdown",
      "metadata": {
        "id": "XtIIOMmghtwO"
      },
      "source": [
        "Comparing survived column and each of these categorical variables "
      ]
    },
    {
      "cell_type": "code",
      "metadata": {
        "colab": {
          "base_uri": "https://localhost:8080/"
        },
        "id": "romkDbsdfD8k",
        "outputId": "177401a1-f190-4aea-b310-8fb1a9c007c7"
      },
      "source": [
        "for i in categoric:\n",
        "  print(i)\n",
        "  print(df.groupby([\"Survived\", i])[\"Fare\"].count(), \"\\n\")"
      ],
      "execution_count": 19,
      "outputs": [
        {
          "output_type": "stream",
          "text": [
            "Pclass\n",
            "Survived  Pclass\n",
            "0         1          80\n",
            "          2          97\n",
            "          3         372\n",
            "1         1         136\n",
            "          2          87\n",
            "          3         119\n",
            "Name: Fare, dtype: int64 \n",
            "\n",
            "Sex\n",
            "Survived  Sex   \n",
            "0         female     81\n",
            "          male      468\n",
            "1         female    233\n",
            "          male      109\n",
            "Name: Fare, dtype: int64 \n",
            "\n",
            "SibSp\n",
            "Survived  SibSp\n",
            "0         0        398\n",
            "          1         97\n",
            "          2         15\n",
            "          3         12\n",
            "          4         15\n",
            "          5          5\n",
            "          8          7\n",
            "1         0        210\n",
            "          1        112\n",
            "          2         13\n",
            "          3          4\n",
            "          4          3\n",
            "Name: Fare, dtype: int64 \n",
            "\n",
            "Parch\n",
            "Survived  Parch\n",
            "0         0        445\n",
            "          1         53\n",
            "          2         40\n",
            "          3          2\n",
            "          4          4\n",
            "          5          4\n",
            "          6          1\n",
            "1         0        233\n",
            "          1         65\n",
            "          2         40\n",
            "          3          3\n",
            "          5          1\n",
            "Name: Fare, dtype: int64 \n",
            "\n",
            "Embarked\n",
            "Survived  Embarked\n",
            "0         C            75\n",
            "          Q            47\n",
            "          S           427\n",
            "1         C            93\n",
            "          Q            30\n",
            "          S           219\n",
            "Name: Fare, dtype: int64 \n",
            "\n"
          ],
          "name": "stdout"
        }
      ]
    },
    {
      "cell_type": "markdown",
      "metadata": {
        "id": "zQXzz70opqPR"
      },
      "source": [
        "Insight:\n",
        "\n",
        "*   First class has higher chance to survived than second & third\n",
        "*   Female has higher chance to survived than male\n",
        "*   SibSp 0 has lower chance to survieve than bring sibling/spouse\n",
        "*   Parch 0 has lower chance to survieve than bring parent/child\n",
        "*   Embarked C has higher chance to survive than other embarked\n",
        "\n",
        "\n",
        "\n",
        "\n"
      ]
    },
    {
      "cell_type": "markdown",
      "metadata": {
        "id": "H1IQDj0Rtsw1"
      },
      "source": [
        "# Preproccesing Data"
      ]
    },
    {
      "cell_type": "code",
      "metadata": {
        "id": "v6ZXZ6thjNFz"
      },
      "source": [
        "df.set_index(\"PassengerId\", inplace=True)"
      ],
      "execution_count": 20,
      "outputs": []
    },
    {
      "cell_type": "code",
      "metadata": {
        "id": "0dwI1iD1uDxW"
      },
      "source": [
        "X = df.drop(columns=[\"Survived\"])\n",
        "y = df.Survived"
      ],
      "execution_count": 21,
      "outputs": []
    },
    {
      "cell_type": "code",
      "metadata": {
        "id": "1-Ior-F4ZUwD"
      },
      "source": [
        "X = pd.get_dummies(X, columns=[\"Pclass\", \"Sex\", \"Embarked\"])"
      ],
      "execution_count": 22,
      "outputs": []
    },
    {
      "cell_type": "markdown",
      "metadata": {
        "id": "AsNeWbjvZr3m"
      },
      "source": [
        "**Splitting the data**"
      ]
    },
    {
      "cell_type": "code",
      "metadata": {
        "id": "LI0XUqKRZmm0"
      },
      "source": [
        "X_train, X_test, y_train, y_test  = train_test_split(X,y, test_size=0.4, stratify=y, random_state=42)"
      ],
      "execution_count": 23,
      "outputs": []
    },
    {
      "cell_type": "markdown",
      "metadata": {
        "id": "kdLBgXowbhdQ"
      },
      "source": [
        "**Feature Engineer**\n",
        "\n",
        "Scaling"
      ]
    },
    {
      "cell_type": "code",
      "metadata": {
        "colab": {
          "base_uri": "https://localhost:8080/"
        },
        "id": "UYgY5FkXcIbq",
        "outputId": "e9881bfa-3b53-47be-80f5-08ea26d665c3"
      },
      "source": [
        "scaler = MinMaxScaler()\n",
        "scaler.fit(X_train)"
      ],
      "execution_count": 24,
      "outputs": [
        {
          "output_type": "execute_result",
          "data": {
            "text/plain": [
              "MinMaxScaler(copy=True, feature_range=(0, 1))"
            ]
          },
          "metadata": {
            "tags": []
          },
          "execution_count": 24
        }
      ]
    },
    {
      "cell_type": "code",
      "metadata": {
        "id": "mpMWUW7fcVMR"
      },
      "source": [
        "X_train_scaled = scaler.transform(X_train)\n",
        "X_test_scaled = scaler.transform(X_test)"
      ],
      "execution_count": 25,
      "outputs": []
    },
    {
      "cell_type": "code",
      "metadata": {
        "colab": {
          "base_uri": "https://localhost:8080/"
        },
        "id": "0q5-ywLDchj2",
        "outputId": "b54450a5-cd32-4dca-fe01-46d0ea6f1e97"
      },
      "source": [
        "scaler = MinMaxScaler()\n",
        "scaler.fit(X_train)"
      ],
      "execution_count": 26,
      "outputs": [
        {
          "output_type": "execute_result",
          "data": {
            "text/plain": [
              "MinMaxScaler(copy=True, feature_range=(0, 1))"
            ]
          },
          "metadata": {
            "tags": []
          },
          "execution_count": 26
        }
      ]
    },
    {
      "cell_type": "code",
      "metadata": {
        "id": "IpddULOXcoBr"
      },
      "source": [
        "X_train_scaled = scaler.transform(X_train)\n",
        "X_test_scaled = scaler.transform(X_test)"
      ],
      "execution_count": 27,
      "outputs": []
    },
    {
      "cell_type": "markdown",
      "metadata": {
        "id": "A7UEPHI1gAQ4"
      },
      "source": [
        "# Defining Model"
      ]
    },
    {
      "cell_type": "markdown",
      "metadata": {
        "id": "pVz1fEPmgc5C"
      },
      "source": [
        "**K-Nearest Neighbor**"
      ]
    },
    {
      "cell_type": "code",
      "metadata": {
        "colab": {
          "base_uri": "https://localhost:8080/"
        },
        "id": "LdKm1fuscoN2",
        "outputId": "8962221c-0dd5-4924-f83b-51713cc66bc5"
      },
      "source": [
        "knn = KNeighborsClassifier(n_neighbors=1)\n",
        "knn.fit(X_train_scaled, y_train)\n",
        "predict_KNN = knn.predict(X_test_scaled)\n",
        "\n",
        "accuracy_KNN = accuracy_score(y_test, predict_KNN)\n",
        "print(\"Model's accuracy: \", accuracy_KNN, '\\n')"
      ],
      "execution_count": 28,
      "outputs": [
        {
          "output_type": "stream",
          "text": [
            "Model's accuracy:  0.7675070028011205 \n",
            "\n"
          ],
          "name": "stdout"
        }
      ]
    },
    {
      "cell_type": "markdown",
      "metadata": {
        "id": "8Vo067_dnD9x"
      },
      "source": [
        "Accuracy model using KNN is 76 %"
      ]
    },
    {
      "cell_type": "markdown",
      "metadata": {
        "id": "ejcwDJDVnjkW"
      },
      "source": [
        "**Support Vector Machine**"
      ]
    },
    {
      "cell_type": "code",
      "metadata": {
        "id": "_KW24qkEnJGQ"
      },
      "source": [
        "from sklearn import svm"
      ],
      "execution_count": 29,
      "outputs": []
    },
    {
      "cell_type": "code",
      "metadata": {
        "colab": {
          "base_uri": "https://localhost:8080/"
        },
        "id": "HMFGyoPOn3Uj",
        "outputId": "9bffc6d6-b720-4b3d-f290-3fa586c5a4c8"
      },
      "source": [
        "model_SVM = svm.SVC()\n",
        "model_SVM.fit(X_train_scaled, y_train)\n",
        "predict_SVM = model_SVM.predict(X_test_scaled)\n",
        "\n",
        "accuracy_SVM = accuracy_score(y_test, predict_SVM)\n",
        "print(\"Model's accuracy: \", accuracy_SVM, '\\n')"
      ],
      "execution_count": 30,
      "outputs": [
        {
          "output_type": "stream",
          "text": [
            "Model's accuracy:  0.8263305322128851 \n",
            "\n"
          ],
          "name": "stdout"
        }
      ]
    },
    {
      "cell_type": "markdown",
      "metadata": {
        "id": "VHPD970UpVdh"
      },
      "source": [
        "Accuracy model using SVM is 82 %"
      ]
    },
    {
      "cell_type": "markdown",
      "metadata": {
        "id": "BAPWKJtdonO0"
      },
      "source": [
        "**Decision Tree Classifier (CART)**"
      ]
    },
    {
      "cell_type": "code",
      "metadata": {
        "id": "8xUTbOhfo4zJ"
      },
      "source": [
        "from sklearn.tree import DecisionTreeClassifier"
      ],
      "execution_count": 31,
      "outputs": []
    },
    {
      "cell_type": "code",
      "metadata": {
        "colab": {
          "base_uri": "https://localhost:8080/"
        },
        "id": "97kuGeeDo8w_",
        "outputId": "209c0106-6eb9-4015-d37e-9929474e1a8b"
      },
      "source": [
        "DT = DecisionTreeClassifier()\n",
        "DT.fit(X_train_scaled, y_train)\n",
        "predict_DT = DT.predict(X_test_scaled)\n",
        "\n",
        "accuracy_DT = accuracy_score(y_test, predict_DT)\n",
        "print(\"Model's accuracy: \", accuracy_DT, '\\n')"
      ],
      "execution_count": 32,
      "outputs": [
        {
          "output_type": "stream",
          "text": [
            "Model's accuracy:  0.7843137254901961 \n",
            "\n"
          ],
          "name": "stdout"
        }
      ]
    },
    {
      "cell_type": "markdown",
      "metadata": {
        "id": "vG-i1BlDpY4o"
      },
      "source": [
        "Accuracy model using CART is 78 %"
      ]
    },
    {
      "cell_type": "markdown",
      "metadata": {
        "id": "hVnNFd_0pguQ"
      },
      "source": [
        "**Random Forest**"
      ]
    },
    {
      "cell_type": "code",
      "metadata": {
        "colab": {
          "base_uri": "https://localhost:8080/"
        },
        "id": "97hVAgqeph2X",
        "outputId": "b61dd751-2d07-411d-971b-369b2415c672"
      },
      "source": [
        "from sklearn.ensemble import RandomForestClassifier\n",
        "RF = RandomForestClassifier()\n",
        "RF.fit(X_train_scaled, y_train)\n",
        "predict_RF = RF.predict(X_test_scaled)\n",
        "\n",
        "accuracy_RF = accuracy_score(y_test, predict_RF)\n",
        "print(\"Model's accuracy: \", accuracy_RF, '\\n')"
      ],
      "execution_count": 33,
      "outputs": [
        {
          "output_type": "stream",
          "text": [
            "Model's accuracy:  0.7675070028011205 \n",
            "\n"
          ],
          "name": "stdout"
        }
      ]
    },
    {
      "cell_type": "markdown",
      "metadata": {
        "id": "2tr4FyJ_p9Ru"
      },
      "source": [
        "Accuracy model using RF is 77 %"
      ]
    },
    {
      "cell_type": "markdown",
      "metadata": {
        "id": "56yr481Npush"
      },
      "source": [
        "**Naive Bayes**"
      ]
    },
    {
      "cell_type": "code",
      "metadata": {
        "colab": {
          "base_uri": "https://localhost:8080/"
        },
        "id": "S7VdnKzqqC-S",
        "outputId": "b5cff9c8-57ba-4415-a12f-3c0628bf18b1"
      },
      "source": [
        "from sklearn.naive_bayes import GaussianNB\n",
        "NB = GaussianNB()\n",
        "NB.fit(X_train_scaled, y_train)\n",
        "predict_NB = NB.predict(X_test_scaled)\n",
        "\n",
        "accuracy_NB = accuracy_score(y_test, predict_NB)\n",
        "print(\"Model's accuracy: \", accuracy_NB, '\\n')"
      ],
      "execution_count": 34,
      "outputs": [
        {
          "output_type": "stream",
          "text": [
            "Model's accuracy:  0.8123249299719888 \n",
            "\n"
          ],
          "name": "stdout"
        }
      ]
    },
    {
      "cell_type": "markdown",
      "metadata": {
        "id": "TwQbNwNDqXM2"
      },
      "source": [
        "Accuracy model using KNN is 81 %"
      ]
    },
    {
      "cell_type": "code",
      "metadata": {
        "colab": {
          "base_uri": "https://localhost:8080/"
        },
        "id": "ah0iCadNsjo1",
        "outputId": "247bfdb6-d2ee-472a-f33c-07bb18cae43f"
      },
      "source": [
        "print('Accuracy of K-Nearest Neighbors: ', accuracy_KNN)\n",
        "print('Accuracy of Support Vector Machine: ', accuracy_SVM)\n",
        "print('Accuracy of Decision Tree: ', accuracy_DT)\n",
        "print('Accuracy of Random Forest: ', accuracy_RF)\n",
        "print('Accuracy of Naive Bayes: ', accuracy_NB)"
      ],
      "execution_count": 35,
      "outputs": [
        {
          "output_type": "stream",
          "text": [
            "Accuracy of K-Nearest Neighbors:  0.7675070028011205\n",
            "Accuracy of Support Vector Machine:  0.8263305322128851\n",
            "Accuracy of Decision Tree:  0.7843137254901961\n",
            "Accuracy of Random Forest:  0.7675070028011205\n",
            "Accuracy of Naive Bayes:  0.8123249299719888\n"
          ],
          "name": "stdout"
        }
      ]
    },
    {
      "cell_type": "markdown",
      "metadata": {
        "id": "XduuT4iWAtQ6"
      },
      "source": [
        "# Evaluation"
      ]
    },
    {
      "cell_type": "markdown",
      "metadata": {
        "id": "mSgOpXMnCOMt"
      },
      "source": [
        "I decided to use Support Vecor Machine to predict a passenger survived in the sinking of titanic since it has the highest accuracy model."
      ]
    }
  ]
}